{
 "cells": [
  {
   "cell_type": "markdown",
   "metadata": {},
   "source": [
    "### November 2, 2020 Feature Selection\n",
    "\n",
    "#### Multi-class classification using:\n",
    "- Logistic Regression (One vs Rest)\n",
    "- Random Forest Classifier\n",
    "\n",
    "y: Health Canada CRC code"
   ]
  },
  {
   "cell_type": "code",
   "execution_count": 1,
   "metadata": {},
   "outputs": [],
   "source": [
    "import numpy as np\n",
    "import pandas as pd\n",
    "\n",
    "import warnings\n",
    "warnings.filterwarnings(\"ignore\")\n",
    "\n",
    "from sklearn.preprocessing import LabelEncoder\n",
    "\n",
    "from sklearn.model_selection import train_test_split\n",
    "\n",
    "from sklearn.linear_model import LogisticRegression\n",
    "from sklearn.ensemble import RandomForestClassifier\n",
    "from sklearn.feature_extraction.text import TfidfVectorizer\n",
    "\n",
    "from sklearn import metrics\n",
    "from sklearn.metrics import f1_score\n",
    "from sklearn.metrics import cohen_kappa_score"
   ]
  },
  {
   "cell_type": "code",
   "execution_count": 2,
   "metadata": {},
   "outputs": [
    {
     "name": "stdout",
     "output_type": "stream",
     "text": [
      "(7916, 13)\n"
     ]
    },
    {
     "data": {
      "text/html": [
       "<div>\n",
       "<style scoped>\n",
       "    .dataframe tbody tr th:only-of-type {\n",
       "        vertical-align: middle;\n",
       "    }\n",
       "\n",
       "    .dataframe tbody tr th {\n",
       "        vertical-align: top;\n",
       "    }\n",
       "\n",
       "    .dataframe thead th {\n",
       "        text-align: right;\n",
       "    }\n",
       "</style>\n",
       "<table border=\"1\" class=\"dataframe\">\n",
       "  <thead>\n",
       "    <tr style=\"text-align: right;\">\n",
       "      <th></th>\n",
       "      <th>FDA_Chapter</th>\n",
       "      <th>FDA_Section</th>\n",
       "      <th>FDA_Code</th>\n",
       "      <th>FDA_Subpart</th>\n",
       "      <th>FDA_Description</th>\n",
       "      <th>fda_desc_cleaned</th>\n",
       "      <th>matched</th>\n",
       "      <th>score</th>\n",
       "      <th>HC_Code</th>\n",
       "      <th>HC_Chapter</th>\n",
       "      <th>HC_Section</th>\n",
       "      <th>HC_Subpart</th>\n",
       "      <th>hc_desc_cleaned</th>\n",
       "    </tr>\n",
       "  </thead>\n",
       "  <tbody>\n",
       "    <tr>\n",
       "      <th>0</th>\n",
       "      <td>GENERAL ENFORCEMENT REGULATIONS</td>\n",
       "      <td>General Provisions</td>\n",
       "      <td>\"1.1\"</td>\n",
       "      <td>General.</td>\n",
       "      <td>(a) The provisions of regulations promulgated ...</td>\n",
       "      <td>provision regulation promulgated federal food ...</td>\n",
       "      <td>1.0</td>\n",
       "      <td>0.772684</td>\n",
       "      <td>B.01.008.1</td>\n",
       "      <td>Foods</td>\n",
       "      <td>General</td>\n",
       "      <td>General</td>\n",
       "      <td>information appearing label prepackaged produc...</td>\n",
       "    </tr>\n",
       "    <tr>\n",
       "      <th>1</th>\n",
       "      <td>GENERAL ENFORCEMENT REGULATIONS</td>\n",
       "      <td>General Provisions</td>\n",
       "      <td>\"1.3\"</td>\n",
       "      <td>Definitions.</td>\n",
       "      <td>(a)  Labeling   includes all written, printed,...</td>\n",
       "      <td>labeling includes written printed graphic matt...</td>\n",
       "      <td>1.0</td>\n",
       "      <td>0.635591</td>\n",
       "      <td>C.01.031</td>\n",
       "      <td>Drugs</td>\n",
       "      <td>Cautionary Statements and Child Resistant Pack...</td>\n",
       "      <td>Cautionary Statements and Child Resistant Pack...</td>\n",
       "      <td>subject section c person shall sell drug descr...</td>\n",
       "    </tr>\n",
       "    <tr>\n",
       "      <th>2</th>\n",
       "      <td>GENERAL ENFORCEMENT REGULATIONS</td>\n",
       "      <td>General Provisions</td>\n",
       "      <td>\"1.4\"</td>\n",
       "      <td>Authority citations.</td>\n",
       "      <td>(a) For each part of its regulations, the Food...</td>\n",
       "      <td>part regulation food drug administration inclu...</td>\n",
       "      <td>1.0</td>\n",
       "      <td>0.779126</td>\n",
       "      <td>A.01.062</td>\n",
       "      <td>Administration</td>\n",
       "      <td>Labelling of Food and Drugs in Pressurized Con...</td>\n",
       "      <td>Not Available</td>\n",
       "      <td>subject section food drug packaged container d...</td>\n",
       "    </tr>\n",
       "  </tbody>\n",
       "</table>\n",
       "</div>"
      ],
      "text/plain": [
       "                       FDA_Chapter         FDA_Section FDA_Code  \\\n",
       "0  GENERAL ENFORCEMENT REGULATIONS  General Provisions    \"1.1\"   \n",
       "1  GENERAL ENFORCEMENT REGULATIONS  General Provisions    \"1.3\"   \n",
       "2  GENERAL ENFORCEMENT REGULATIONS  General Provisions    \"1.4\"   \n",
       "\n",
       "            FDA_Subpart                                    FDA_Description  \\\n",
       "0              General.  (a) The provisions of regulations promulgated ...   \n",
       "1          Definitions.  (a)  Labeling   includes all written, printed,...   \n",
       "2  Authority citations.  (a) For each part of its regulations, the Food...   \n",
       "\n",
       "                                    fda_desc_cleaned  matched     score  \\\n",
       "0  provision regulation promulgated federal food ...      1.0  0.772684   \n",
       "1  labeling includes written printed graphic matt...      1.0  0.635591   \n",
       "2  part regulation food drug administration inclu...      1.0  0.779126   \n",
       "\n",
       "      HC_Code      HC_Chapter  \\\n",
       "0  B.01.008.1           Foods   \n",
       "1    C.01.031           Drugs   \n",
       "2    A.01.062  Administration   \n",
       "\n",
       "                                          HC_Section  \\\n",
       "0                                            General   \n",
       "1  Cautionary Statements and Child Resistant Pack...   \n",
       "2  Labelling of Food and Drugs in Pressurized Con...   \n",
       "\n",
       "                                          HC_Subpart  \\\n",
       "0                                            General   \n",
       "1  Cautionary Statements and Child Resistant Pack...   \n",
       "2                                      Not Available   \n",
       "\n",
       "                                     hc_desc_cleaned  \n",
       "0  information appearing label prepackaged produc...  \n",
       "1  subject section c person shall sell drug descr...  \n",
       "2  subject section food drug packaged container d...  "
      ]
     },
     "execution_count": 2,
     "metadata": {},
     "output_type": "execute_result"
    }
   ],
   "source": [
    "df_full = pd.read_csv('fda_matched_new.csv')\n",
    "print(df_full.shape)\n",
    "df_full.head(3)"
   ]
  },
  {
   "cell_type": "code",
   "execution_count": 3,
   "metadata": {},
   "outputs": [
    {
     "data": {
      "text/plain": [
       "1.0    7705\n",
       "0.0     102\n",
       "Name: matched, dtype: int64"
      ]
     },
     "execution_count": 3,
     "metadata": {},
     "output_type": "execute_result"
    }
   ],
   "source": [
    "df_full['matched'].value_counts()"
   ]
  },
  {
   "cell_type": "code",
   "execution_count": 4,
   "metadata": {},
   "outputs": [
    {
     "name": "stdout",
     "output_type": "stream",
     "text": [
      "(7705, 13)\n"
     ]
    },
    {
     "data": {
      "text/html": [
       "<div>\n",
       "<style scoped>\n",
       "    .dataframe tbody tr th:only-of-type {\n",
       "        vertical-align: middle;\n",
       "    }\n",
       "\n",
       "    .dataframe tbody tr th {\n",
       "        vertical-align: top;\n",
       "    }\n",
       "\n",
       "    .dataframe thead th {\n",
       "        text-align: right;\n",
       "    }\n",
       "</style>\n",
       "<table border=\"1\" class=\"dataframe\">\n",
       "  <thead>\n",
       "    <tr style=\"text-align: right;\">\n",
       "      <th></th>\n",
       "      <th>FDA_Chapter</th>\n",
       "      <th>FDA_Section</th>\n",
       "      <th>FDA_Code</th>\n",
       "      <th>FDA_Subpart</th>\n",
       "      <th>FDA_Description</th>\n",
       "      <th>fda_desc_cleaned</th>\n",
       "      <th>matched</th>\n",
       "      <th>score</th>\n",
       "      <th>HC_Code</th>\n",
       "      <th>HC_Chapter</th>\n",
       "      <th>HC_Section</th>\n",
       "      <th>HC_Subpart</th>\n",
       "      <th>hc_desc_cleaned</th>\n",
       "    </tr>\n",
       "  </thead>\n",
       "  <tbody>\n",
       "    <tr>\n",
       "      <th>0</th>\n",
       "      <td>GENERAL ENFORCEMENT REGULATIONS</td>\n",
       "      <td>General Provisions</td>\n",
       "      <td>\"1.1\"</td>\n",
       "      <td>General.</td>\n",
       "      <td>(a) The provisions of regulations promulgated ...</td>\n",
       "      <td>provision regulation promulgated federal food ...</td>\n",
       "      <td>1.0</td>\n",
       "      <td>0.772684</td>\n",
       "      <td>B.01.008.1</td>\n",
       "      <td>Foods</td>\n",
       "      <td>General</td>\n",
       "      <td>General</td>\n",
       "      <td>information appearing label prepackaged produc...</td>\n",
       "    </tr>\n",
       "    <tr>\n",
       "      <th>1</th>\n",
       "      <td>GENERAL ENFORCEMENT REGULATIONS</td>\n",
       "      <td>General Provisions</td>\n",
       "      <td>\"1.3\"</td>\n",
       "      <td>Definitions.</td>\n",
       "      <td>(a)  Labeling   includes all written, printed,...</td>\n",
       "      <td>labeling includes written printed graphic matt...</td>\n",
       "      <td>1.0</td>\n",
       "      <td>0.635591</td>\n",
       "      <td>C.01.031</td>\n",
       "      <td>Drugs</td>\n",
       "      <td>Cautionary Statements and Child Resistant Pack...</td>\n",
       "      <td>Cautionary Statements and Child Resistant Pack...</td>\n",
       "      <td>subject section c person shall sell drug descr...</td>\n",
       "    </tr>\n",
       "    <tr>\n",
       "      <th>2</th>\n",
       "      <td>GENERAL ENFORCEMENT REGULATIONS</td>\n",
       "      <td>General Provisions</td>\n",
       "      <td>\"1.4\"</td>\n",
       "      <td>Authority citations.</td>\n",
       "      <td>(a) For each part of its regulations, the Food...</td>\n",
       "      <td>part regulation food drug administration inclu...</td>\n",
       "      <td>1.0</td>\n",
       "      <td>0.779126</td>\n",
       "      <td>A.01.062</td>\n",
       "      <td>Administration</td>\n",
       "      <td>Labelling of Food and Drugs in Pressurized Con...</td>\n",
       "      <td>Not Available</td>\n",
       "      <td>subject section food drug packaged container d...</td>\n",
       "    </tr>\n",
       "  </tbody>\n",
       "</table>\n",
       "</div>"
      ],
      "text/plain": [
       "                       FDA_Chapter         FDA_Section FDA_Code  \\\n",
       "0  GENERAL ENFORCEMENT REGULATIONS  General Provisions    \"1.1\"   \n",
       "1  GENERAL ENFORCEMENT REGULATIONS  General Provisions    \"1.3\"   \n",
       "2  GENERAL ENFORCEMENT REGULATIONS  General Provisions    \"1.4\"   \n",
       "\n",
       "            FDA_Subpart                                    FDA_Description  \\\n",
       "0              General.  (a) The provisions of regulations promulgated ...   \n",
       "1          Definitions.  (a)  Labeling   includes all written, printed,...   \n",
       "2  Authority citations.  (a) For each part of its regulations, the Food...   \n",
       "\n",
       "                                    fda_desc_cleaned  matched     score  \\\n",
       "0  provision regulation promulgated federal food ...      1.0  0.772684   \n",
       "1  labeling includes written printed graphic matt...      1.0  0.635591   \n",
       "2  part regulation food drug administration inclu...      1.0  0.779126   \n",
       "\n",
       "      HC_Code      HC_Chapter  \\\n",
       "0  B.01.008.1           Foods   \n",
       "1    C.01.031           Drugs   \n",
       "2    A.01.062  Administration   \n",
       "\n",
       "                                          HC_Section  \\\n",
       "0                                            General   \n",
       "1  Cautionary Statements and Child Resistant Pack...   \n",
       "2  Labelling of Food and Drugs in Pressurized Con...   \n",
       "\n",
       "                                          HC_Subpart  \\\n",
       "0                                            General   \n",
       "1  Cautionary Statements and Child Resistant Pack...   \n",
       "2                                      Not Available   \n",
       "\n",
       "                                     hc_desc_cleaned  \n",
       "0  information appearing label prepackaged produc...  \n",
       "1  subject section c person shall sell drug descr...  \n",
       "2  subject section food drug packaged container d...  "
      ]
     },
     "execution_count": 4,
     "metadata": {},
     "output_type": "execute_result"
    }
   ],
   "source": [
    "# Matched regulations dataset\n",
    "df_full = df_full.loc[df_full['matched'] == 1.0]\n",
    "print(df_full.shape)\n",
    "df_full.head(3)"
   ]
  },
  {
   "cell_type": "code",
   "execution_count": 5,
   "metadata": {},
   "outputs": [
    {
     "name": "stdout",
     "output_type": "stream",
     "text": [
      "(717, 1)\n"
     ]
    },
    {
     "data": {
      "text/html": [
       "<div>\n",
       "<style scoped>\n",
       "    .dataframe tbody tr th:only-of-type {\n",
       "        vertical-align: middle;\n",
       "    }\n",
       "\n",
       "    .dataframe tbody tr th {\n",
       "        vertical-align: top;\n",
       "    }\n",
       "\n",
       "    .dataframe thead th {\n",
       "        text-align: right;\n",
       "    }\n",
       "</style>\n",
       "<table border=\"1\" class=\"dataframe\">\n",
       "  <thead>\n",
       "    <tr style=\"text-align: right;\">\n",
       "      <th></th>\n",
       "      <th>HC_Code</th>\n",
       "    </tr>\n",
       "  </thead>\n",
       "  <tbody>\n",
       "    <tr>\n",
       "      <th>0</th>\n",
       "      <td>A.01.001</td>\n",
       "    </tr>\n",
       "    <tr>\n",
       "      <th>1</th>\n",
       "      <td>A.01.002</td>\n",
       "    </tr>\n",
       "    <tr>\n",
       "      <th>2</th>\n",
       "      <td>A.01.010</td>\n",
       "    </tr>\n",
       "  </tbody>\n",
       "</table>\n",
       "</div>"
      ],
      "text/plain": [
       "    HC_Code\n",
       "0  A.01.001\n",
       "1  A.01.002\n",
       "2  A.01.010"
      ]
     },
     "execution_count": 5,
     "metadata": {},
     "output_type": "execute_result"
    }
   ],
   "source": [
    "reference_df = pd.DataFrame(sorted(list(zip(df_full['HC_Code'].unique()))), columns = ['HC_Code'])\n",
    "\n",
    "print(reference_df.shape)\n",
    "reference_df.head(3)"
   ]
  },
  {
   "cell_type": "code",
   "execution_count": 6,
   "metadata": {},
   "outputs": [
    {
     "name": "stdout",
     "output_type": "stream",
     "text": [
      "(717, 2)\n"
     ]
    },
    {
     "data": {
      "text/html": [
       "<div>\n",
       "<style scoped>\n",
       "    .dataframe tbody tr th:only-of-type {\n",
       "        vertical-align: middle;\n",
       "    }\n",
       "\n",
       "    .dataframe tbody tr th {\n",
       "        vertical-align: top;\n",
       "    }\n",
       "\n",
       "    .dataframe thead th {\n",
       "        text-align: right;\n",
       "    }\n",
       "</style>\n",
       "<table border=\"1\" class=\"dataframe\">\n",
       "  <thead>\n",
       "    <tr style=\"text-align: right;\">\n",
       "      <th></th>\n",
       "      <th>HC_Code</th>\n",
       "      <th>y</th>\n",
       "    </tr>\n",
       "  </thead>\n",
       "  <tbody>\n",
       "    <tr>\n",
       "      <th>0</th>\n",
       "      <td>A.01.001</td>\n",
       "      <td>0</td>\n",
       "    </tr>\n",
       "    <tr>\n",
       "      <th>1</th>\n",
       "      <td>A.01.002</td>\n",
       "      <td>1</td>\n",
       "    </tr>\n",
       "    <tr>\n",
       "      <th>2</th>\n",
       "      <td>A.01.010</td>\n",
       "      <td>2</td>\n",
       "    </tr>\n",
       "  </tbody>\n",
       "</table>\n",
       "</div>"
      ],
      "text/plain": [
       "    HC_Code  y\n",
       "0  A.01.001  0\n",
       "1  A.01.002  1\n",
       "2  A.01.010  2"
      ]
     },
     "execution_count": 6,
     "metadata": {},
     "output_type": "execute_result"
    }
   ],
   "source": [
    "reference_df['y'] = (reference_df.index).astype(str)\n",
    "print(reference_df.shape)\n",
    "reference_df.head(3)"
   ]
  },
  {
   "cell_type": "code",
   "execution_count": 7,
   "metadata": {},
   "outputs": [
    {
     "name": "stdout",
     "output_type": "stream",
     "text": [
      "(7705, 14)\n"
     ]
    },
    {
     "data": {
      "text/html": [
       "<div>\n",
       "<style scoped>\n",
       "    .dataframe tbody tr th:only-of-type {\n",
       "        vertical-align: middle;\n",
       "    }\n",
       "\n",
       "    .dataframe tbody tr th {\n",
       "        vertical-align: top;\n",
       "    }\n",
       "\n",
       "    .dataframe thead th {\n",
       "        text-align: right;\n",
       "    }\n",
       "</style>\n",
       "<table border=\"1\" class=\"dataframe\">\n",
       "  <thead>\n",
       "    <tr style=\"text-align: right;\">\n",
       "      <th></th>\n",
       "      <th>FDA_Chapter</th>\n",
       "      <th>FDA_Section</th>\n",
       "      <th>FDA_Code</th>\n",
       "      <th>FDA_Subpart</th>\n",
       "      <th>FDA_Description</th>\n",
       "      <th>fda_desc_cleaned</th>\n",
       "      <th>matched</th>\n",
       "      <th>score</th>\n",
       "      <th>HC_Code</th>\n",
       "      <th>HC_Chapter</th>\n",
       "      <th>HC_Section</th>\n",
       "      <th>HC_Subpart</th>\n",
       "      <th>hc_desc_cleaned</th>\n",
       "      <th>y</th>\n",
       "    </tr>\n",
       "  </thead>\n",
       "  <tbody>\n",
       "    <tr>\n",
       "      <th>0</th>\n",
       "      <td>GENERAL ENFORCEMENT REGULATIONS</td>\n",
       "      <td>General Provisions</td>\n",
       "      <td>\"1.1\"</td>\n",
       "      <td>General.</td>\n",
       "      <td>(a) The provisions of regulations promulgated ...</td>\n",
       "      <td>provision regulation promulgated federal food ...</td>\n",
       "      <td>1.0</td>\n",
       "      <td>0.772684</td>\n",
       "      <td>B.01.008.1</td>\n",
       "      <td>Foods</td>\n",
       "      <td>General</td>\n",
       "      <td>General</td>\n",
       "      <td>information appearing label prepackaged produc...</td>\n",
       "      <td>29</td>\n",
       "    </tr>\n",
       "    <tr>\n",
       "      <th>1</th>\n",
       "      <td>GENERAL ENFORCEMENT REGULATIONS</td>\n",
       "      <td>General Provisions</td>\n",
       "      <td>\"1.3\"</td>\n",
       "      <td>Definitions.</td>\n",
       "      <td>(a)  Labeling   includes all written, printed,...</td>\n",
       "      <td>labeling includes written printed graphic matt...</td>\n",
       "      <td>1.0</td>\n",
       "      <td>0.635591</td>\n",
       "      <td>C.01.031</td>\n",
       "      <td>Drugs</td>\n",
       "      <td>Cautionary Statements and Child Resistant Pack...</td>\n",
       "      <td>Cautionary Statements and Child Resistant Pack...</td>\n",
       "      <td>subject section c person shall sell drug descr...</td>\n",
       "      <td>356</td>\n",
       "    </tr>\n",
       "    <tr>\n",
       "      <th>2</th>\n",
       "      <td>GENERAL ENFORCEMENT REGULATIONS</td>\n",
       "      <td>General Provisions</td>\n",
       "      <td>\"1.4\"</td>\n",
       "      <td>Authority citations.</td>\n",
       "      <td>(a) For each part of its regulations, the Food...</td>\n",
       "      <td>part regulation food drug administration inclu...</td>\n",
       "      <td>1.0</td>\n",
       "      <td>0.779126</td>\n",
       "      <td>A.01.062</td>\n",
       "      <td>Administration</td>\n",
       "      <td>Labelling of Food and Drugs in Pressurized Con...</td>\n",
       "      <td>Not Available</td>\n",
       "      <td>subject section food drug packaged container d...</td>\n",
       "      <td>17</td>\n",
       "    </tr>\n",
       "  </tbody>\n",
       "</table>\n",
       "</div>"
      ],
      "text/plain": [
       "                       FDA_Chapter         FDA_Section FDA_Code  \\\n",
       "0  GENERAL ENFORCEMENT REGULATIONS  General Provisions    \"1.1\"   \n",
       "1  GENERAL ENFORCEMENT REGULATIONS  General Provisions    \"1.3\"   \n",
       "2  GENERAL ENFORCEMENT REGULATIONS  General Provisions    \"1.4\"   \n",
       "\n",
       "            FDA_Subpart                                    FDA_Description  \\\n",
       "0              General.  (a) The provisions of regulations promulgated ...   \n",
       "1          Definitions.  (a)  Labeling   includes all written, printed,...   \n",
       "2  Authority citations.  (a) For each part of its regulations, the Food...   \n",
       "\n",
       "                                    fda_desc_cleaned  matched     score  \\\n",
       "0  provision regulation promulgated federal food ...      1.0  0.772684   \n",
       "1  labeling includes written printed graphic matt...      1.0  0.635591   \n",
       "2  part regulation food drug administration inclu...      1.0  0.779126   \n",
       "\n",
       "      HC_Code      HC_Chapter  \\\n",
       "0  B.01.008.1           Foods   \n",
       "1    C.01.031           Drugs   \n",
       "2    A.01.062  Administration   \n",
       "\n",
       "                                          HC_Section  \\\n",
       "0                                            General   \n",
       "1  Cautionary Statements and Child Resistant Pack...   \n",
       "2  Labelling of Food and Drugs in Pressurized Con...   \n",
       "\n",
       "                                          HC_Subpart  \\\n",
       "0                                            General   \n",
       "1  Cautionary Statements and Child Resistant Pack...   \n",
       "2                                      Not Available   \n",
       "\n",
       "                                     hc_desc_cleaned    y  \n",
       "0  information appearing label prepackaged produc...   29  \n",
       "1  subject section c person shall sell drug descr...  356  \n",
       "2  subject section food drug packaged container d...   17  "
      ]
     },
     "execution_count": 7,
     "metadata": {},
     "output_type": "execute_result"
    }
   ],
   "source": [
    "df_full = df_full.merge(reference_df, on='HC_Code', how='left')\n",
    "print(df_full.shape)\n",
    "df_full.head(3)"
   ]
  },
  {
   "cell_type": "markdown",
   "metadata": {},
   "source": [
    "### 1. X: 'HC_Chapter','HC_Section','HC_Subpart'"
   ]
  },
  {
   "cell_type": "code",
   "execution_count": 8,
   "metadata": {
    "scrolled": true
   },
   "outputs": [
    {
     "name": "stdout",
     "output_type": "stream",
     "text": [
      "Original shape: (7705, 4)\n",
      "Shape after removing duplicates: (717, 4)\n"
     ]
    },
    {
     "data": {
      "text/html": [
       "<div>\n",
       "<style scoped>\n",
       "    .dataframe tbody tr th:only-of-type {\n",
       "        vertical-align: middle;\n",
       "    }\n",
       "\n",
       "    .dataframe tbody tr th {\n",
       "        vertical-align: top;\n",
       "    }\n",
       "\n",
       "    .dataframe thead th {\n",
       "        text-align: right;\n",
       "    }\n",
       "</style>\n",
       "<table border=\"1\" class=\"dataframe\">\n",
       "  <thead>\n",
       "    <tr style=\"text-align: right;\">\n",
       "      <th></th>\n",
       "      <th>HC_Chapter</th>\n",
       "      <th>HC_Section</th>\n",
       "      <th>HC_Subpart</th>\n",
       "      <th>y</th>\n",
       "    </tr>\n",
       "  </thead>\n",
       "  <tbody>\n",
       "    <tr>\n",
       "      <th>0</th>\n",
       "      <td>Drugs</td>\n",
       "      <td>Cautionary Statements and Child Resistant Pack...</td>\n",
       "      <td>Cautionary Statements and Child Resistant Pack...</td>\n",
       "      <td>356</td>\n",
       "    </tr>\n",
       "    <tr>\n",
       "      <th>1</th>\n",
       "      <td>Controlled Drugs</td>\n",
       "      <td>Licensed Dealers</td>\n",
       "      <td>Import Permits</td>\n",
       "      <td>633</td>\n",
       "    </tr>\n",
       "    <tr>\n",
       "      <th>2</th>\n",
       "      <td>Restricted Drugs</td>\n",
       "      <td>Test Kits</td>\n",
       "      <td>Not Available</td>\n",
       "      <td>681</td>\n",
       "    </tr>\n",
       "  </tbody>\n",
       "</table>\n",
       "</div>"
      ],
      "text/plain": [
       "         HC_Chapter                                         HC_Section  \\\n",
       "0             Drugs  Cautionary Statements and Child Resistant Pack...   \n",
       "1  Controlled Drugs                                   Licensed Dealers   \n",
       "2  Restricted Drugs                                          Test Kits   \n",
       "\n",
       "                                          HC_Subpart    y  \n",
       "0  Cautionary Statements and Child Resistant Pack...  356  \n",
       "1                                     Import Permits  633  \n",
       "2                                      Not Available  681  "
      ]
     },
     "execution_count": 8,
     "metadata": {},
     "output_type": "execute_result"
    }
   ],
   "source": [
    "# define df and drop duplicates\n",
    "df = df_full[['HC_Chapter','HC_Section','HC_Subpart','y']]\n",
    "print('Original shape:',df.shape)\n",
    "df.drop_duplicates(subset = df.columns, keep='last',inplace =True)\n",
    "features = df.columns[:-1]\n",
    "df = df.reset_index(drop=True)\n",
    "print('Shape after removing duplicates:',df.shape)\n",
    "df.head(3)"
   ]
  },
  {
   "cell_type": "code",
   "execution_count": 9,
   "metadata": {},
   "outputs": [
    {
     "name": "stdout",
     "output_type": "stream",
     "text": [
      "(717, 247)\n",
      "(717, 1)\n"
     ]
    }
   ],
   "source": [
    "# define X and y\n",
    "y = df[['y']]\n",
    "\n",
    "X = df[['HC_Chapter','HC_Section','HC_Subpart']]\n",
    "X = pd.get_dummies(data = X, columns = X.columns)\n",
    "\n",
    "print(X.shape)\n",
    "print(y.shape)"
   ]
  },
  {
   "cell_type": "code",
   "execution_count": 10,
   "metadata": {},
   "outputs": [
    {
     "name": "stdout",
     "output_type": "stream",
     "text": [
      "Features: Index(['HC_Chapter', 'HC_Section', 'HC_Subpart'], dtype='object')\n",
      "---------- Logistic Regression ----------\n",
      "F1 Score: 0.0\n",
      "Cohen Kappa Score: 0.0\n",
      "---------- Random Forest Classifier ----------\n",
      "F1 Score: 0.0\n",
      "Cohen Kappa Score: 0.0\n"
     ]
    }
   ],
   "source": [
    "# run classifier\n",
    "print('Features:',features)\n",
    "X_train, X_test, y_train, y_test = train_test_split(X, y, test_size = 0.2, random_state = 42)\n",
    "\n",
    "print('---------- Logistic Regression ----------')\n",
    "lr = LogisticRegression(multi_class='ovr')\n",
    "lr.fit(X_train, y_train)\n",
    "lr_predictions = lr.predict(X_test)\n",
    "\n",
    "f1_score = metrics.f1_score(y_test, lr_predictions, average = 'micro') \n",
    "print('F1 Score:',f1_score)\n",
    "\n",
    "ck = cohen_kappa_score(y_test, lr_predictions)\n",
    "print('Cohen Kappa Score:',ck)\n",
    "\n",
    "print('---------- Random Forest Classifier ----------')\n",
    "rf = RandomForestClassifier(n_estimators = 100, random_state=42).fit(X_train, y_train) \n",
    "rf_predictions = rf.predict(X_test) \n",
    "\n",
    "f1_score = metrics.f1_score(y_test, rf_predictions, average = 'micro') \n",
    "print('F1 Score:',f1_score)\n",
    "\n",
    "ck = cohen_kappa_score(y_test, rf_predictions)\n",
    "print('Cohen Kappa Score:',ck)"
   ]
  },
  {
   "cell_type": "markdown",
   "metadata": {},
   "source": [
    "### 2. X: 'HC_Chapter','HC_Section','HC_Subpart', 'hc_desc_cleaned'"
   ]
  },
  {
   "cell_type": "code",
   "execution_count": 11,
   "metadata": {},
   "outputs": [
    {
     "name": "stdout",
     "output_type": "stream",
     "text": [
      "Original shape: (7705, 5)\n",
      "Shape after removing duplicates: (718, 5)\n"
     ]
    },
    {
     "data": {
      "text/html": [
       "<div>\n",
       "<style scoped>\n",
       "    .dataframe tbody tr th:only-of-type {\n",
       "        vertical-align: middle;\n",
       "    }\n",
       "\n",
       "    .dataframe tbody tr th {\n",
       "        vertical-align: top;\n",
       "    }\n",
       "\n",
       "    .dataframe thead th {\n",
       "        text-align: right;\n",
       "    }\n",
       "</style>\n",
       "<table border=\"1\" class=\"dataframe\">\n",
       "  <thead>\n",
       "    <tr style=\"text-align: right;\">\n",
       "      <th></th>\n",
       "      <th>HC_Chapter</th>\n",
       "      <th>HC_Section</th>\n",
       "      <th>HC_Subpart</th>\n",
       "      <th>hc_desc_cleaned</th>\n",
       "      <th>y</th>\n",
       "    </tr>\n",
       "  </thead>\n",
       "  <tbody>\n",
       "    <tr>\n",
       "      <th>0</th>\n",
       "      <td>Drugs</td>\n",
       "      <td>Cautionary Statements and Child Resistant Pack...</td>\n",
       "      <td>Cautionary Statements and Child Resistant Pack...</td>\n",
       "      <td>subject section c person shall sell drug descr...</td>\n",
       "      <td>356</td>\n",
       "    </tr>\n",
       "    <tr>\n",
       "      <th>1</th>\n",
       "      <td>Controlled Drugs</td>\n",
       "      <td>Licensed Dealers</td>\n",
       "      <td>Import Permits</td>\n",
       "      <td>providing copy permit holder import permit mus...</td>\n",
       "      <td>633</td>\n",
       "    </tr>\n",
       "    <tr>\n",
       "      <th>2</th>\n",
       "      <td>Restricted Drugs</td>\n",
       "      <td>Test Kits</td>\n",
       "      <td>Not Available</td>\n",
       "      <td>application registration number manufacturer t...</td>\n",
       "      <td>681</td>\n",
       "    </tr>\n",
       "  </tbody>\n",
       "</table>\n",
       "</div>"
      ],
      "text/plain": [
       "         HC_Chapter                                         HC_Section  \\\n",
       "0             Drugs  Cautionary Statements and Child Resistant Pack...   \n",
       "1  Controlled Drugs                                   Licensed Dealers   \n",
       "2  Restricted Drugs                                          Test Kits   \n",
       "\n",
       "                                          HC_Subpart  \\\n",
       "0  Cautionary Statements and Child Resistant Pack...   \n",
       "1                                     Import Permits   \n",
       "2                                      Not Available   \n",
       "\n",
       "                                     hc_desc_cleaned    y  \n",
       "0  subject section c person shall sell drug descr...  356  \n",
       "1  providing copy permit holder import permit mus...  633  \n",
       "2  application registration number manufacturer t...  681  "
      ]
     },
     "execution_count": 11,
     "metadata": {},
     "output_type": "execute_result"
    }
   ],
   "source": [
    "# define df and drop duplicates\n",
    "df = df_full[['HC_Chapter','HC_Section','HC_Subpart','hc_desc_cleaned','y']]\n",
    "print('Original shape:',df.shape)\n",
    "df.drop_duplicates(subset=df.columns, keep='last',inplace =True)\n",
    "features = df.columns[:-1]\n",
    "df = df.reset_index(drop=True)\n",
    "print('Shape after removing duplicates:',df.shape)\n",
    "df.head(3)"
   ]
  },
  {
   "cell_type": "code",
   "execution_count": 12,
   "metadata": {},
   "outputs": [
    {
     "name": "stdout",
     "output_type": "stream",
     "text": [
      "(718, 248)\n",
      "(718, 1)\n"
     ]
    }
   ],
   "source": [
    "# define X and y\n",
    "y = df[['y']]\n",
    "X = df[['HC_Chapter','HC_Section','HC_Subpart']]\n",
    "X = pd.get_dummies(data = X, columns = X.columns)\n",
    "\n",
    "tfidf_vectorizer = TfidfVectorizer()\n",
    "X_text = df[['hc_desc_cleaned']]\n",
    "X_text['hc_desc_cleaned'] = tfidf_vectorizer.fit_transform(X_text['hc_desc_cleaned']).toarray()\n",
    "X = pd.concat([X, X_text], axis=1, sort=True)\n",
    "\n",
    "print(X.shape)\n",
    "print(y.shape)"
   ]
  },
  {
   "cell_type": "code",
   "execution_count": 13,
   "metadata": {},
   "outputs": [
    {
     "name": "stdout",
     "output_type": "stream",
     "text": [
      "Features: Index(['HC_Chapter', 'HC_Section', 'HC_Subpart', 'hc_desc_cleaned'], dtype='object')\n",
      "---------- Logistic Regression ----------\n",
      "F1 Score: 0.0\n",
      "Cohen Kappa Score: 0.0\n",
      "---------- Random Forest Classifier ----------\n",
      "F1 Score: 0.0\n",
      "Cohen Kappa Score: 0.0\n"
     ]
    }
   ],
   "source": [
    "# run classifier\n",
    "print('Features:',features)\n",
    "X_train, X_test, y_train, y_test = train_test_split(X, y, test_size = 0.2, random_state = 42)\n",
    "\n",
    "print('---------- Logistic Regression ----------')\n",
    "lr = LogisticRegression(multi_class='ovr')\n",
    "lr.fit(X_train, y_train)\n",
    "lr_predictions = lr.predict(X_test)\n",
    "\n",
    "f1_score = metrics.f1_score(y_test, lr_predictions, average = 'micro') \n",
    "print('F1 Score:',f1_score)\n",
    "\n",
    "ck = cohen_kappa_score(y_test, lr_predictions)\n",
    "print('Cohen Kappa Score:',ck)\n",
    "\n",
    "print('---------- Random Forest Classifier ----------')\n",
    "rf = RandomForestClassifier(n_estimators = 100, random_state=42).fit(X_train, y_train) \n",
    "rf_predictions = rf.predict(X_test) \n",
    "\n",
    "f1_score = metrics.f1_score(y_test, rf_predictions, average = 'micro') \n",
    "print('F1 Score:',f1_score)\n",
    "\n",
    "ck = cohen_kappa_score(y_test, rf_predictions)\n",
    "print('Cohen Kappa Score:',ck)"
   ]
  },
  {
   "cell_type": "markdown",
   "metadata": {},
   "source": [
    "### 3. X: 'HC_Chapter','HC_Section','HC_Subpart', 'fda_desc_cleaned'"
   ]
  },
  {
   "cell_type": "code",
   "execution_count": 14,
   "metadata": {},
   "outputs": [
    {
     "name": "stdout",
     "output_type": "stream",
     "text": [
      "Original shape: (7705, 5)\n",
      "Shape after removing duplicates: (7705, 5)\n"
     ]
    },
    {
     "data": {
      "text/html": [
       "<div>\n",
       "<style scoped>\n",
       "    .dataframe tbody tr th:only-of-type {\n",
       "        vertical-align: middle;\n",
       "    }\n",
       "\n",
       "    .dataframe tbody tr th {\n",
       "        vertical-align: top;\n",
       "    }\n",
       "\n",
       "    .dataframe thead th {\n",
       "        text-align: right;\n",
       "    }\n",
       "</style>\n",
       "<table border=\"1\" class=\"dataframe\">\n",
       "  <thead>\n",
       "    <tr style=\"text-align: right;\">\n",
       "      <th></th>\n",
       "      <th>HC_Chapter</th>\n",
       "      <th>HC_Section</th>\n",
       "      <th>HC_Subpart</th>\n",
       "      <th>fda_desc_cleaned</th>\n",
       "      <th>y</th>\n",
       "    </tr>\n",
       "  </thead>\n",
       "  <tbody>\n",
       "    <tr>\n",
       "      <th>0</th>\n",
       "      <td>Foods</td>\n",
       "      <td>General</td>\n",
       "      <td>General</td>\n",
       "      <td>provision regulation promulgated federal food ...</td>\n",
       "      <td>29</td>\n",
       "    </tr>\n",
       "    <tr>\n",
       "      <th>1</th>\n",
       "      <td>Drugs</td>\n",
       "      <td>Cautionary Statements and Child Resistant Pack...</td>\n",
       "      <td>Cautionary Statements and Child Resistant Pack...</td>\n",
       "      <td>labeling includes written printed graphic matt...</td>\n",
       "      <td>356</td>\n",
       "    </tr>\n",
       "    <tr>\n",
       "      <th>2</th>\n",
       "      <td>Administration</td>\n",
       "      <td>Labelling of Food and Drugs in Pressurized Con...</td>\n",
       "      <td>Not Available</td>\n",
       "      <td>part regulation food drug administration inclu...</td>\n",
       "      <td>17</td>\n",
       "    </tr>\n",
       "  </tbody>\n",
       "</table>\n",
       "</div>"
      ],
      "text/plain": [
       "       HC_Chapter                                         HC_Section  \\\n",
       "0           Foods                                            General   \n",
       "1           Drugs  Cautionary Statements and Child Resistant Pack...   \n",
       "2  Administration  Labelling of Food and Drugs in Pressurized Con...   \n",
       "\n",
       "                                          HC_Subpart  \\\n",
       "0                                            General   \n",
       "1  Cautionary Statements and Child Resistant Pack...   \n",
       "2                                      Not Available   \n",
       "\n",
       "                                    fda_desc_cleaned    y  \n",
       "0  provision regulation promulgated federal food ...   29  \n",
       "1  labeling includes written printed graphic matt...  356  \n",
       "2  part regulation food drug administration inclu...   17  "
      ]
     },
     "execution_count": 14,
     "metadata": {},
     "output_type": "execute_result"
    }
   ],
   "source": [
    "# define df and drop duplicates\n",
    "df = df_full[['HC_Chapter','HC_Section','HC_Subpart','fda_desc_cleaned','y']]\n",
    "print('Original shape:',df.shape)\n",
    "df.drop_duplicates(subset=df.columns, keep='last',inplace =True)\n",
    "features = df.columns[:-1]\n",
    "df = df.reset_index(drop=True)\n",
    "print('Shape after removing duplicates:',df.shape)\n",
    "df.head(3)"
   ]
  },
  {
   "cell_type": "code",
   "execution_count": 15,
   "metadata": {},
   "outputs": [
    {
     "name": "stdout",
     "output_type": "stream",
     "text": [
      "(7705, 248)\n",
      "(7705, 1)\n"
     ]
    }
   ],
   "source": [
    "# define X and y\n",
    "y = df[['y']]\n",
    "X = df[['HC_Chapter','HC_Section','HC_Subpart']]\n",
    "X = pd.get_dummies(data = X, columns = X.columns)\n",
    "\n",
    "tfidf_vectorizer = TfidfVectorizer()\n",
    "X_text = df[['fda_desc_cleaned']]\n",
    "X_text['fda_desc_cleaned'] = tfidf_vectorizer.fit_transform(X_text['fda_desc_cleaned']).toarray()\n",
    "X = pd.concat([X, X_text], axis=1, sort=True)\n",
    "\n",
    "print(X.shape)\n",
    "print(y.shape)\n",
    "\n"
   ]
  },
  {
   "cell_type": "code",
   "execution_count": 16,
   "metadata": {},
   "outputs": [
    {
     "name": "stdout",
     "output_type": "stream",
     "text": [
      "Features: Index(['HC_Chapter', 'HC_Section', 'HC_Subpart', 'fda_desc_cleaned'], dtype='object')\n",
      "---------- Logistic Regression ----------\n",
      "F1 Score: 0.5944192083062946\n",
      "Cohen Kappa Score: 0.5892240541010847\n",
      "---------- Random Forest Classifier ----------\n",
      "F1 Score: 0.6132381570408826\n",
      "Cohen Kappa Score: 0.6083420220512197\n"
     ]
    }
   ],
   "source": [
    "# run classifier\n",
    "print('Features:',features)\n",
    "X_train, X_test, y_train, y_test = train_test_split(X, y, test_size = 0.2, random_state = 42)\n",
    "\n",
    "print('---------- Logistic Regression ----------')\n",
    "lr = LogisticRegression(multi_class='ovr')\n",
    "lr.fit(X_train, y_train)\n",
    "lr_predictions = lr.predict(X_test)\n",
    "\n",
    "f1_score = metrics.f1_score(y_test, lr_predictions, average = 'micro') \n",
    "print('F1 Score:',f1_score)\n",
    "\n",
    "ck = cohen_kappa_score(y_test, lr_predictions)\n",
    "print('Cohen Kappa Score:',ck)\n",
    "\n",
    "print('---------- Random Forest Classifier ----------')\n",
    "rf = RandomForestClassifier(n_estimators = 100, random_state=42).fit(X_train, y_train) \n",
    "rf_predictions = rf.predict(X_test) \n",
    "\n",
    "f1_score = metrics.f1_score(y_test, rf_predictions, average = 'micro') \n",
    "print('F1 Score:',f1_score)\n",
    "\n",
    "ck = cohen_kappa_score(y_test, rf_predictions)\n",
    "print('Cohen Kappa Score:',ck)"
   ]
  },
  {
   "cell_type": "markdown",
   "metadata": {},
   "source": [
    "### 4. X: 'HC_Chapter','HC_Section','HC_Subpart','hc_desc_cleaned', 'fda_desc_cleaned'"
   ]
  },
  {
   "cell_type": "code",
   "execution_count": 17,
   "metadata": {},
   "outputs": [
    {
     "name": "stdout",
     "output_type": "stream",
     "text": [
      "Original shape: (7705, 6)\n",
      "Shape after removing duplicates: (7705, 6)\n"
     ]
    },
    {
     "data": {
      "text/html": [
       "<div>\n",
       "<style scoped>\n",
       "    .dataframe tbody tr th:only-of-type {\n",
       "        vertical-align: middle;\n",
       "    }\n",
       "\n",
       "    .dataframe tbody tr th {\n",
       "        vertical-align: top;\n",
       "    }\n",
       "\n",
       "    .dataframe thead th {\n",
       "        text-align: right;\n",
       "    }\n",
       "</style>\n",
       "<table border=\"1\" class=\"dataframe\">\n",
       "  <thead>\n",
       "    <tr style=\"text-align: right;\">\n",
       "      <th></th>\n",
       "      <th>HC_Chapter</th>\n",
       "      <th>HC_Section</th>\n",
       "      <th>HC_Subpart</th>\n",
       "      <th>hc_desc_cleaned</th>\n",
       "      <th>fda_desc_cleaned</th>\n",
       "      <th>y</th>\n",
       "    </tr>\n",
       "  </thead>\n",
       "  <tbody>\n",
       "    <tr>\n",
       "      <th>0</th>\n",
       "      <td>Foods</td>\n",
       "      <td>General</td>\n",
       "      <td>General</td>\n",
       "      <td>information appearing label prepackaged produc...</td>\n",
       "      <td>provision regulation promulgated federal food ...</td>\n",
       "      <td>29</td>\n",
       "    </tr>\n",
       "    <tr>\n",
       "      <th>1</th>\n",
       "      <td>Drugs</td>\n",
       "      <td>Cautionary Statements and Child Resistant Pack...</td>\n",
       "      <td>Cautionary Statements and Child Resistant Pack...</td>\n",
       "      <td>subject section c person shall sell drug descr...</td>\n",
       "      <td>labeling includes written printed graphic matt...</td>\n",
       "      <td>356</td>\n",
       "    </tr>\n",
       "    <tr>\n",
       "      <th>2</th>\n",
       "      <td>Administration</td>\n",
       "      <td>Labelling of Food and Drugs in Pressurized Con...</td>\n",
       "      <td>Not Available</td>\n",
       "      <td>subject section food drug packaged container d...</td>\n",
       "      <td>part regulation food drug administration inclu...</td>\n",
       "      <td>17</td>\n",
       "    </tr>\n",
       "  </tbody>\n",
       "</table>\n",
       "</div>"
      ],
      "text/plain": [
       "       HC_Chapter                                         HC_Section  \\\n",
       "0           Foods                                            General   \n",
       "1           Drugs  Cautionary Statements and Child Resistant Pack...   \n",
       "2  Administration  Labelling of Food and Drugs in Pressurized Con...   \n",
       "\n",
       "                                          HC_Subpart  \\\n",
       "0                                            General   \n",
       "1  Cautionary Statements and Child Resistant Pack...   \n",
       "2                                      Not Available   \n",
       "\n",
       "                                     hc_desc_cleaned  \\\n",
       "0  information appearing label prepackaged produc...   \n",
       "1  subject section c person shall sell drug descr...   \n",
       "2  subject section food drug packaged container d...   \n",
       "\n",
       "                                    fda_desc_cleaned    y  \n",
       "0  provision regulation promulgated federal food ...   29  \n",
       "1  labeling includes written printed graphic matt...  356  \n",
       "2  part regulation food drug administration inclu...   17  "
      ]
     },
     "execution_count": 17,
     "metadata": {},
     "output_type": "execute_result"
    }
   ],
   "source": [
    "# define df and drop duplicates\n",
    "df = df_full[['HC_Chapter','HC_Section','HC_Subpart','hc_desc_cleaned','fda_desc_cleaned','y']]\n",
    "print('Original shape:',df.shape)\n",
    "df.drop_duplicates(subset=df.columns, keep='last',inplace =True)\n",
    "features = df.columns[:-1]\n",
    "df = df.reset_index(drop=True)\n",
    "print('Shape after removing duplicates:',df.shape)\n",
    "df.head(3)"
   ]
  },
  {
   "cell_type": "code",
   "execution_count": 18,
   "metadata": {},
   "outputs": [
    {
     "name": "stdout",
     "output_type": "stream",
     "text": [
      "(7705, 249)\n",
      "(7705, 1)\n"
     ]
    }
   ],
   "source": [
    "# define X and y\n",
    "y = df[['y']]\n",
    "X = df[['HC_Chapter','HC_Section','HC_Subpart']]\n",
    "X = pd.get_dummies(data = X, columns = X.columns)\n",
    "\n",
    "tfidf_vectorizer = TfidfVectorizer()\n",
    "X_text = df[['hc_desc_cleaned','fda_desc_cleaned']]\n",
    "X_text['hc_desc_cleaned'] = tfidf_vectorizer.fit_transform(X_text['hc_desc_cleaned']).toarray()\n",
    "X_text['fda_desc_cleaned'] = tfidf_vectorizer.fit_transform(X_text['fda_desc_cleaned']).toarray()\n",
    "X = pd.concat([X, X_text], axis=1, sort=True)\n",
    "\n",
    "print(X.shape)\n",
    "print(y.shape)\n",
    "\n"
   ]
  },
  {
   "cell_type": "code",
   "execution_count": 19,
   "metadata": {},
   "outputs": [
    {
     "name": "stdout",
     "output_type": "stream",
     "text": [
      "Features: Index(['HC_Chapter', 'HC_Section', 'HC_Subpart', 'hc_desc_cleaned',\n",
      "       'fda_desc_cleaned'],\n",
      "      dtype='object')\n",
      "---------- Logistic Regression ----------\n",
      "F1 Score: 0.5944192083062946\n",
      "Cohen Kappa Score: 0.5892235285085803\n",
      "---------- Random Forest Classifier ----------\n",
      "F1 Score: 0.6346528228423102\n",
      "Cohen Kappa Score: 0.6300746346297178\n"
     ]
    }
   ],
   "source": [
    "# run classifier\n",
    "print('Features:',features)\n",
    "X_train, X_test, y_train, y_test = train_test_split(X, y, test_size = 0.2, random_state = 42)\n",
    "\n",
    "print('---------- Logistic Regression ----------')\n",
    "lr = LogisticRegression(multi_class='ovr')\n",
    "lr.fit(X_train, y_train)\n",
    "lr_predictions = lr.predict(X_test)\n",
    "\n",
    "f1_score = metrics.f1_score(y_test, lr_predictions, average = 'micro') \n",
    "print('F1 Score:',f1_score)\n",
    "\n",
    "ck = cohen_kappa_score(y_test, lr_predictions)\n",
    "print('Cohen Kappa Score:',ck)\n",
    "\n",
    "print('---------- Random Forest Classifier ----------')\n",
    "rf = RandomForestClassifier(n_estimators = 100, random_state=42).fit(X_train, y_train) \n",
    "rf_predictions = rf.predict(X_test) \n",
    "\n",
    "f1_score = metrics.f1_score(y_test, rf_predictions, average = 'micro') \n",
    "print('F1 Score:',f1_score)\n",
    "\n",
    "ck = cohen_kappa_score(y_test, rf_predictions)\n",
    "print('Cohen Kappa Score:',ck)"
   ]
  },
  {
   "cell_type": "markdown",
   "metadata": {},
   "source": [
    "### 5. X: 'HC_Chapter','HC_Section','HC_Subpart','hc_desc_cleaned', 'fda_desc_cleaned','FDA_Chapter'"
   ]
  },
  {
   "cell_type": "code",
   "execution_count": 20,
   "metadata": {},
   "outputs": [
    {
     "name": "stdout",
     "output_type": "stream",
     "text": [
      "Original shape: (7705, 7)\n",
      "Shape after removing duplicates: (7705, 7)\n"
     ]
    },
    {
     "data": {
      "text/html": [
       "<div>\n",
       "<style scoped>\n",
       "    .dataframe tbody tr th:only-of-type {\n",
       "        vertical-align: middle;\n",
       "    }\n",
       "\n",
       "    .dataframe tbody tr th {\n",
       "        vertical-align: top;\n",
       "    }\n",
       "\n",
       "    .dataframe thead th {\n",
       "        text-align: right;\n",
       "    }\n",
       "</style>\n",
       "<table border=\"1\" class=\"dataframe\">\n",
       "  <thead>\n",
       "    <tr style=\"text-align: right;\">\n",
       "      <th></th>\n",
       "      <th>FDA_Chapter</th>\n",
       "      <th>HC_Chapter</th>\n",
       "      <th>HC_Section</th>\n",
       "      <th>HC_Subpart</th>\n",
       "      <th>hc_desc_cleaned</th>\n",
       "      <th>fda_desc_cleaned</th>\n",
       "      <th>y</th>\n",
       "    </tr>\n",
       "  </thead>\n",
       "  <tbody>\n",
       "    <tr>\n",
       "      <th>0</th>\n",
       "      <td>GENERAL ENFORCEMENT REGULATIONS</td>\n",
       "      <td>Foods</td>\n",
       "      <td>General</td>\n",
       "      <td>General</td>\n",
       "      <td>information appearing label prepackaged produc...</td>\n",
       "      <td>provision regulation promulgated federal food ...</td>\n",
       "      <td>29</td>\n",
       "    </tr>\n",
       "    <tr>\n",
       "      <th>1</th>\n",
       "      <td>GENERAL ENFORCEMENT REGULATIONS</td>\n",
       "      <td>Drugs</td>\n",
       "      <td>Cautionary Statements and Child Resistant Pack...</td>\n",
       "      <td>Cautionary Statements and Child Resistant Pack...</td>\n",
       "      <td>subject section c person shall sell drug descr...</td>\n",
       "      <td>labeling includes written printed graphic matt...</td>\n",
       "      <td>356</td>\n",
       "    </tr>\n",
       "    <tr>\n",
       "      <th>2</th>\n",
       "      <td>GENERAL ENFORCEMENT REGULATIONS</td>\n",
       "      <td>Administration</td>\n",
       "      <td>Labelling of Food and Drugs in Pressurized Con...</td>\n",
       "      <td>Not Available</td>\n",
       "      <td>subject section food drug packaged container d...</td>\n",
       "      <td>part regulation food drug administration inclu...</td>\n",
       "      <td>17</td>\n",
       "    </tr>\n",
       "  </tbody>\n",
       "</table>\n",
       "</div>"
      ],
      "text/plain": [
       "                       FDA_Chapter      HC_Chapter  \\\n",
       "0  GENERAL ENFORCEMENT REGULATIONS           Foods   \n",
       "1  GENERAL ENFORCEMENT REGULATIONS           Drugs   \n",
       "2  GENERAL ENFORCEMENT REGULATIONS  Administration   \n",
       "\n",
       "                                          HC_Section  \\\n",
       "0                                            General   \n",
       "1  Cautionary Statements and Child Resistant Pack...   \n",
       "2  Labelling of Food and Drugs in Pressurized Con...   \n",
       "\n",
       "                                          HC_Subpart  \\\n",
       "0                                            General   \n",
       "1  Cautionary Statements and Child Resistant Pack...   \n",
       "2                                      Not Available   \n",
       "\n",
       "                                     hc_desc_cleaned  \\\n",
       "0  information appearing label prepackaged produc...   \n",
       "1  subject section c person shall sell drug descr...   \n",
       "2  subject section food drug packaged container d...   \n",
       "\n",
       "                                    fda_desc_cleaned    y  \n",
       "0  provision regulation promulgated federal food ...   29  \n",
       "1  labeling includes written printed graphic matt...  356  \n",
       "2  part regulation food drug administration inclu...   17  "
      ]
     },
     "execution_count": 20,
     "metadata": {},
     "output_type": "execute_result"
    }
   ],
   "source": [
    "# define df and drop duplicates\n",
    "df = df_full[['FDA_Chapter','HC_Chapter','HC_Section','HC_Subpart','hc_desc_cleaned','fda_desc_cleaned','y']]\n",
    "print('Original shape:',df.shape)\n",
    "df.drop_duplicates(subset=df.columns, keep='last',inplace =True)\n",
    "features = df.columns[:-1]\n",
    "df = df.reset_index(drop=True)\n",
    "print('Shape after removing duplicates:',df.shape)\n",
    "df.head(3)"
   ]
  },
  {
   "cell_type": "code",
   "execution_count": 21,
   "metadata": {},
   "outputs": [
    {
     "name": "stdout",
     "output_type": "stream",
     "text": [
      "(7705, 459)\n",
      "(7705, 1)\n"
     ]
    }
   ],
   "source": [
    "# define X and y\n",
    "y = df[['y']]\n",
    "X = df[['FDA_Chapter','HC_Chapter','HC_Section','HC_Subpart']]\n",
    "X = pd.get_dummies(data = X, columns = X.columns)\n",
    "\n",
    "tfidf_vectorizer = TfidfVectorizer()\n",
    "X_text = df[['hc_desc_cleaned','fda_desc_cleaned']]\n",
    "X_text['hc_desc_cleaned'] = tfidf_vectorizer.fit_transform(X_text['hc_desc_cleaned']).toarray()\n",
    "X_text['fda_desc_cleaned'] = tfidf_vectorizer.fit_transform(X_text['fda_desc_cleaned']).toarray()\n",
    "X = pd.concat([X, X_text], axis=1, sort=True)\n",
    "\n",
    "print(X.shape)\n",
    "print(y.shape)"
   ]
  },
  {
   "cell_type": "code",
   "execution_count": 22,
   "metadata": {},
   "outputs": [
    {
     "name": "stdout",
     "output_type": "stream",
     "text": [
      "Features: Index(['FDA_Chapter', 'HC_Chapter', 'HC_Section', 'HC_Subpart',\n",
      "       'hc_desc_cleaned', 'fda_desc_cleaned'],\n",
      "      dtype='object')\n",
      "---------- Logistic Regression ----------\n",
      "F1 Score: 0.6541207008436081\n",
      "Cohen Kappa Score: 0.649859769637686\n",
      "---------- Random Forest Classifier ----------\n",
      "F1 Score: 0.6768332251784556\n",
      "Cohen Kappa Score: 0.6731453970547147\n"
     ]
    }
   ],
   "source": [
    "# run classifier\n",
    "print('Features:',features)\n",
    "X_train, X_test, y_train, y_test = train_test_split(X, y, test_size = 0.2, random_state = 42)\n",
    "\n",
    "print('---------- Logistic Regression ----------')\n",
    "lr = LogisticRegression(multi_class='ovr')\n",
    "lr.fit(X_train, y_train)\n",
    "lr_predictions = lr.predict(X_test)\n",
    "\n",
    "f1_score = metrics.f1_score(y_test, lr_predictions, average = 'micro') \n",
    "print('F1 Score:',f1_score)\n",
    "\n",
    "ck = cohen_kappa_score(y_test, lr_predictions)\n",
    "print('Cohen Kappa Score:',ck)\n",
    "\n",
    "print('---------- Random Forest Classifier ----------')\n",
    "rf = RandomForestClassifier(n_estimators = 100, random_state=42).fit(X_train, y_train) \n",
    "rf_predictions = rf.predict(X_test) \n",
    "\n",
    "f1_score = metrics.f1_score(y_test, rf_predictions, average = 'micro') \n",
    "print('F1 Score:',f1_score)\n",
    "\n",
    "ck = cohen_kappa_score(y_test, rf_predictions)\n",
    "print('Cohen Kappa Score:',ck)"
   ]
  },
  {
   "cell_type": "markdown",
   "metadata": {},
   "source": [
    "### 6. X: 'HC_Chapter','HC_Section','HC_Subpart','hc_desc_cleaned', 'fda_desc_cleaned','FDA_Section'"
   ]
  },
  {
   "cell_type": "code",
   "execution_count": 23,
   "metadata": {},
   "outputs": [
    {
     "name": "stdout",
     "output_type": "stream",
     "text": [
      "Original shape: (7705, 7)\n",
      "Shape after removing duplicates: (7705, 7)\n"
     ]
    },
    {
     "data": {
      "text/html": [
       "<div>\n",
       "<style scoped>\n",
       "    .dataframe tbody tr th:only-of-type {\n",
       "        vertical-align: middle;\n",
       "    }\n",
       "\n",
       "    .dataframe tbody tr th {\n",
       "        vertical-align: top;\n",
       "    }\n",
       "\n",
       "    .dataframe thead th {\n",
       "        text-align: right;\n",
       "    }\n",
       "</style>\n",
       "<table border=\"1\" class=\"dataframe\">\n",
       "  <thead>\n",
       "    <tr style=\"text-align: right;\">\n",
       "      <th></th>\n",
       "      <th>FDA_Section</th>\n",
       "      <th>HC_Chapter</th>\n",
       "      <th>HC_Section</th>\n",
       "      <th>HC_Subpart</th>\n",
       "      <th>hc_desc_cleaned</th>\n",
       "      <th>fda_desc_cleaned</th>\n",
       "      <th>y</th>\n",
       "    </tr>\n",
       "  </thead>\n",
       "  <tbody>\n",
       "    <tr>\n",
       "      <th>0</th>\n",
       "      <td>General Provisions</td>\n",
       "      <td>Foods</td>\n",
       "      <td>General</td>\n",
       "      <td>General</td>\n",
       "      <td>information appearing label prepackaged produc...</td>\n",
       "      <td>provision regulation promulgated federal food ...</td>\n",
       "      <td>29</td>\n",
       "    </tr>\n",
       "    <tr>\n",
       "      <th>1</th>\n",
       "      <td>General Provisions</td>\n",
       "      <td>Drugs</td>\n",
       "      <td>Cautionary Statements and Child Resistant Pack...</td>\n",
       "      <td>Cautionary Statements and Child Resistant Pack...</td>\n",
       "      <td>subject section c person shall sell drug descr...</td>\n",
       "      <td>labeling includes written printed graphic matt...</td>\n",
       "      <td>356</td>\n",
       "    </tr>\n",
       "    <tr>\n",
       "      <th>2</th>\n",
       "      <td>General Provisions</td>\n",
       "      <td>Administration</td>\n",
       "      <td>Labelling of Food and Drugs in Pressurized Con...</td>\n",
       "      <td>Not Available</td>\n",
       "      <td>subject section food drug packaged container d...</td>\n",
       "      <td>part regulation food drug administration inclu...</td>\n",
       "      <td>17</td>\n",
       "    </tr>\n",
       "  </tbody>\n",
       "</table>\n",
       "</div>"
      ],
      "text/plain": [
       "          FDA_Section      HC_Chapter  \\\n",
       "0  General Provisions           Foods   \n",
       "1  General Provisions           Drugs   \n",
       "2  General Provisions  Administration   \n",
       "\n",
       "                                          HC_Section  \\\n",
       "0                                            General   \n",
       "1  Cautionary Statements and Child Resistant Pack...   \n",
       "2  Labelling of Food and Drugs in Pressurized Con...   \n",
       "\n",
       "                                          HC_Subpart  \\\n",
       "0                                            General   \n",
       "1  Cautionary Statements and Child Resistant Pack...   \n",
       "2                                      Not Available   \n",
       "\n",
       "                                     hc_desc_cleaned  \\\n",
       "0  information appearing label prepackaged produc...   \n",
       "1  subject section c person shall sell drug descr...   \n",
       "2  subject section food drug packaged container d...   \n",
       "\n",
       "                                    fda_desc_cleaned    y  \n",
       "0  provision regulation promulgated federal food ...   29  \n",
       "1  labeling includes written printed graphic matt...  356  \n",
       "2  part regulation food drug administration inclu...   17  "
      ]
     },
     "execution_count": 23,
     "metadata": {},
     "output_type": "execute_result"
    }
   ],
   "source": [
    "# define df and drop duplicates\n",
    "df = df_full[['FDA_Section','HC_Chapter','HC_Section','HC_Subpart',\n",
    "              'hc_desc_cleaned','fda_desc_cleaned','y']]\n",
    "print('Original shape:',df.shape)\n",
    "df.drop_duplicates(subset=df.columns, keep='last',inplace =True)\n",
    "features = df.columns[:-1]\n",
    "df = df.reset_index(drop=True)\n",
    "print('Shape after removing duplicates:',df.shape)\n",
    "df.head(3)"
   ]
  },
  {
   "cell_type": "code",
   "execution_count": 24,
   "metadata": {},
   "outputs": [
    {
     "name": "stdout",
     "output_type": "stream",
     "text": [
      "(7705, 1547)\n",
      "(7705, 1)\n"
     ]
    }
   ],
   "source": [
    "# define X and y\n",
    "y = df[['y']]\n",
    "X = df[['FDA_Section','HC_Chapter','HC_Section','HC_Subpart']]\n",
    "X = pd.get_dummies(data = X, columns = X.columns)\n",
    "\n",
    "tfidf_vectorizer = TfidfVectorizer()\n",
    "X_text = df[['hc_desc_cleaned','fda_desc_cleaned']]\n",
    "X_text['hc_desc_cleaned'] = tfidf_vectorizer.fit_transform(X_text['hc_desc_cleaned']).toarray()\n",
    "X_text['fda_desc_cleaned'] = tfidf_vectorizer.fit_transform(X_text['fda_desc_cleaned']).toarray()\n",
    "X = pd.concat([X, X_text], axis=1, sort=True)\n",
    "\n",
    "print(X.shape)\n",
    "print(y.shape)"
   ]
  },
  {
   "cell_type": "code",
   "execution_count": 25,
   "metadata": {},
   "outputs": [
    {
     "name": "stdout",
     "output_type": "stream",
     "text": [
      "Features: Index(['FDA_Section', 'HC_Chapter', 'HC_Section', 'HC_Subpart',\n",
      "       'hc_desc_cleaned', 'fda_desc_cleaned'],\n",
      "      dtype='object')\n",
      "---------- Logistic Regression ----------\n",
      "F1 Score: 0.6391953277092797\n",
      "Cohen Kappa Score: 0.6346866788353069\n",
      "---------- Random Forest Classifier ----------\n",
      "F1 Score: 0.6761842959117457\n",
      "Cohen Kappa Score: 0.6724110680692822\n"
     ]
    }
   ],
   "source": [
    "# run classifier\n",
    "print('Features:',features)\n",
    "X_train, X_test, y_train, y_test = train_test_split(X, y, test_size = 0.2, random_state = 42)\n",
    "\n",
    "print('---------- Logistic Regression ----------')\n",
    "lr = LogisticRegression(multi_class='ovr')\n",
    "lr.fit(X_train, y_train)\n",
    "lr_predictions = lr.predict(X_test)\n",
    "\n",
    "f1_score = metrics.f1_score(y_test, lr_predictions, average = 'micro') \n",
    "print('F1 Score:',f1_score)\n",
    "\n",
    "ck = cohen_kappa_score(y_test, lr_predictions)\n",
    "print('Cohen Kappa Score:',ck)\n",
    "\n",
    "print('---------- Random Forest Classifier ----------')\n",
    "rf = RandomForestClassifier(n_estimators = 100, random_state=42).fit(X_train, y_train) \n",
    "rf_predictions = rf.predict(X_test) \n",
    "\n",
    "f1_score = metrics.f1_score(y_test, rf_predictions, average = 'micro') \n",
    "print('F1 Score:',f1_score)\n",
    "\n",
    "ck = cohen_kappa_score(y_test, rf_predictions)\n",
    "print('Cohen Kappa Score:',ck)"
   ]
  },
  {
   "cell_type": "markdown",
   "metadata": {},
   "source": [
    "### 7. X: 'HC_Chapter','HC_Section','HC_Subpart','hc_desc_cleaned', 'fda_desc_cleaned','FDA_Subpart'"
   ]
  },
  {
   "cell_type": "code",
   "execution_count": 26,
   "metadata": {},
   "outputs": [
    {
     "name": "stdout",
     "output_type": "stream",
     "text": [
      "Original shape: (7705, 7)\n",
      "Shape after removing duplicates: (7705, 7)\n"
     ]
    },
    {
     "data": {
      "text/html": [
       "<div>\n",
       "<style scoped>\n",
       "    .dataframe tbody tr th:only-of-type {\n",
       "        vertical-align: middle;\n",
       "    }\n",
       "\n",
       "    .dataframe tbody tr th {\n",
       "        vertical-align: top;\n",
       "    }\n",
       "\n",
       "    .dataframe thead th {\n",
       "        text-align: right;\n",
       "    }\n",
       "</style>\n",
       "<table border=\"1\" class=\"dataframe\">\n",
       "  <thead>\n",
       "    <tr style=\"text-align: right;\">\n",
       "      <th></th>\n",
       "      <th>FDA_Subpart</th>\n",
       "      <th>HC_Chapter</th>\n",
       "      <th>HC_Section</th>\n",
       "      <th>HC_Subpart</th>\n",
       "      <th>hc_desc_cleaned</th>\n",
       "      <th>fda_desc_cleaned</th>\n",
       "      <th>y</th>\n",
       "    </tr>\n",
       "  </thead>\n",
       "  <tbody>\n",
       "    <tr>\n",
       "      <th>0</th>\n",
       "      <td>General.</td>\n",
       "      <td>Foods</td>\n",
       "      <td>General</td>\n",
       "      <td>General</td>\n",
       "      <td>information appearing label prepackaged produc...</td>\n",
       "      <td>provision regulation promulgated federal food ...</td>\n",
       "      <td>29</td>\n",
       "    </tr>\n",
       "    <tr>\n",
       "      <th>1</th>\n",
       "      <td>Definitions.</td>\n",
       "      <td>Drugs</td>\n",
       "      <td>Cautionary Statements and Child Resistant Pack...</td>\n",
       "      <td>Cautionary Statements and Child Resistant Pack...</td>\n",
       "      <td>subject section c person shall sell drug descr...</td>\n",
       "      <td>labeling includes written printed graphic matt...</td>\n",
       "      <td>356</td>\n",
       "    </tr>\n",
       "    <tr>\n",
       "      <th>2</th>\n",
       "      <td>Authority citations.</td>\n",
       "      <td>Administration</td>\n",
       "      <td>Labelling of Food and Drugs in Pressurized Con...</td>\n",
       "      <td>Not Available</td>\n",
       "      <td>subject section food drug packaged container d...</td>\n",
       "      <td>part regulation food drug administration inclu...</td>\n",
       "      <td>17</td>\n",
       "    </tr>\n",
       "  </tbody>\n",
       "</table>\n",
       "</div>"
      ],
      "text/plain": [
       "            FDA_Subpart      HC_Chapter  \\\n",
       "0              General.           Foods   \n",
       "1          Definitions.           Drugs   \n",
       "2  Authority citations.  Administration   \n",
       "\n",
       "                                          HC_Section  \\\n",
       "0                                            General   \n",
       "1  Cautionary Statements and Child Resistant Pack...   \n",
       "2  Labelling of Food and Drugs in Pressurized Con...   \n",
       "\n",
       "                                          HC_Subpart  \\\n",
       "0                                            General   \n",
       "1  Cautionary Statements and Child Resistant Pack...   \n",
       "2                                      Not Available   \n",
       "\n",
       "                                     hc_desc_cleaned  \\\n",
       "0  information appearing label prepackaged produc...   \n",
       "1  subject section c person shall sell drug descr...   \n",
       "2  subject section food drug packaged container d...   \n",
       "\n",
       "                                    fda_desc_cleaned    y  \n",
       "0  provision regulation promulgated federal food ...   29  \n",
       "1  labeling includes written printed graphic matt...  356  \n",
       "2  part regulation food drug administration inclu...   17  "
      ]
     },
     "execution_count": 26,
     "metadata": {},
     "output_type": "execute_result"
    }
   ],
   "source": [
    "# define df and drop duplicates\n",
    "df = df_full[['FDA_Subpart','HC_Chapter','HC_Section','HC_Subpart',\n",
    "              'hc_desc_cleaned','fda_desc_cleaned','y']]\n",
    "print('Original shape:',df.shape)\n",
    "df.drop_duplicates(subset=df.columns, keep='last',inplace =True)\n",
    "features = df.columns[:-1]\n",
    "df = df.reset_index(drop=True)\n",
    "print('Shape after removing duplicates:',df.shape)\n",
    "df.head(3)"
   ]
  },
  {
   "cell_type": "code",
   "execution_count": 27,
   "metadata": {},
   "outputs": [
    {
     "name": "stdout",
     "output_type": "stream",
     "text": [
      "(7705, 6828)\n",
      "(7705, 1)\n"
     ]
    }
   ],
   "source": [
    "# define X and y\n",
    "y = df[['y']]\n",
    "X = df[['FDA_Subpart','HC_Chapter','HC_Section','HC_Subpart']]\n",
    "X = pd.get_dummies(data = X, columns = X.columns)\n",
    "\n",
    "tfidf_vectorizer = TfidfVectorizer()\n",
    "X_text = df[['hc_desc_cleaned','fda_desc_cleaned']]\n",
    "X_text['hc_desc_cleaned'] = tfidf_vectorizer.fit_transform(X_text['hc_desc_cleaned']).toarray()\n",
    "X_text['fda_desc_cleaned'] = tfidf_vectorizer.fit_transform(X_text['fda_desc_cleaned']).toarray()\n",
    "X = pd.concat([X, X_text], axis=1, sort=True)\n",
    "\n",
    "print(X.shape)\n",
    "print(y.shape)\n"
   ]
  },
  {
   "cell_type": "code",
   "execution_count": 28,
   "metadata": {},
   "outputs": [
    {
     "name": "stdout",
     "output_type": "stream",
     "text": [
      "Features: Index(['FDA_Subpart', 'HC_Chapter', 'HC_Section', 'HC_Subpart',\n",
      "       'hc_desc_cleaned', 'fda_desc_cleaned'],\n",
      "      dtype='object')\n",
      "---------- Logistic Regression ----------\n",
      "F1 Score: 0.5983127839065542\n",
      "Cohen Kappa Score: 0.5931813839387767\n",
      "---------- Random Forest Classifier ----------\n",
      "F1 Score: 0.6359506813757301\n",
      "Cohen Kappa Score: 0.631532982981063\n"
     ]
    }
   ],
   "source": [
    "# run classifier\n",
    "print('Features:',features)\n",
    "X_train, X_test, y_train, y_test = train_test_split(X, y, test_size = 0.2, random_state = 42)\n",
    "\n",
    "print('---------- Logistic Regression ----------')\n",
    "lr = LogisticRegression(multi_class='ovr')\n",
    "lr.fit(X_train, y_train)\n",
    "lr_predictions = lr.predict(X_test)\n",
    "\n",
    "f1_score = metrics.f1_score(y_test, lr_predictions, average = 'micro') \n",
    "print('F1 Score:',f1_score)\n",
    "\n",
    "ck = cohen_kappa_score(y_test, lr_predictions)\n",
    "print('Cohen Kappa Score:',ck)\n",
    "\n",
    "print('---------- Random Forest Classifier ----------')\n",
    "rf = RandomForestClassifier(n_estimators = 100, random_state=42).fit(X_train, y_train) \n",
    "rf_predictions = rf.predict(X_test) \n",
    "\n",
    "f1_score = metrics.f1_score(y_test, rf_predictions, average = 'micro') \n",
    "print('F1 Score:',f1_score)\n",
    "\n",
    "ck = cohen_kappa_score(y_test, rf_predictions)\n",
    "print('Cohen Kappa Score:',ck)"
   ]
  },
  {
   "cell_type": "markdown",
   "metadata": {},
   "source": [
    "### 8. X: 'HC_Chapter','HC_Section','HC_Subpart','hc_desc_cleaned', 'fda_desc_cleaned','FDA_Chapter', 'FDA_Section'"
   ]
  },
  {
   "cell_type": "code",
   "execution_count": 29,
   "metadata": {},
   "outputs": [
    {
     "name": "stdout",
     "output_type": "stream",
     "text": [
      "Original shape: (7705, 8)\n",
      "Shape after removing duplicates: (7705, 8)\n"
     ]
    },
    {
     "data": {
      "text/html": [
       "<div>\n",
       "<style scoped>\n",
       "    .dataframe tbody tr th:only-of-type {\n",
       "        vertical-align: middle;\n",
       "    }\n",
       "\n",
       "    .dataframe tbody tr th {\n",
       "        vertical-align: top;\n",
       "    }\n",
       "\n",
       "    .dataframe thead th {\n",
       "        text-align: right;\n",
       "    }\n",
       "</style>\n",
       "<table border=\"1\" class=\"dataframe\">\n",
       "  <thead>\n",
       "    <tr style=\"text-align: right;\">\n",
       "      <th></th>\n",
       "      <th>FDA_Chapter</th>\n",
       "      <th>FDA_Section</th>\n",
       "      <th>HC_Chapter</th>\n",
       "      <th>HC_Section</th>\n",
       "      <th>HC_Subpart</th>\n",
       "      <th>hc_desc_cleaned</th>\n",
       "      <th>fda_desc_cleaned</th>\n",
       "      <th>y</th>\n",
       "    </tr>\n",
       "  </thead>\n",
       "  <tbody>\n",
       "    <tr>\n",
       "      <th>0</th>\n",
       "      <td>GENERAL ENFORCEMENT REGULATIONS</td>\n",
       "      <td>General Provisions</td>\n",
       "      <td>Foods</td>\n",
       "      <td>General</td>\n",
       "      <td>General</td>\n",
       "      <td>information appearing label prepackaged produc...</td>\n",
       "      <td>provision regulation promulgated federal food ...</td>\n",
       "      <td>29</td>\n",
       "    </tr>\n",
       "    <tr>\n",
       "      <th>1</th>\n",
       "      <td>GENERAL ENFORCEMENT REGULATIONS</td>\n",
       "      <td>General Provisions</td>\n",
       "      <td>Drugs</td>\n",
       "      <td>Cautionary Statements and Child Resistant Pack...</td>\n",
       "      <td>Cautionary Statements and Child Resistant Pack...</td>\n",
       "      <td>subject section c person shall sell drug descr...</td>\n",
       "      <td>labeling includes written printed graphic matt...</td>\n",
       "      <td>356</td>\n",
       "    </tr>\n",
       "    <tr>\n",
       "      <th>2</th>\n",
       "      <td>GENERAL ENFORCEMENT REGULATIONS</td>\n",
       "      <td>General Provisions</td>\n",
       "      <td>Administration</td>\n",
       "      <td>Labelling of Food and Drugs in Pressurized Con...</td>\n",
       "      <td>Not Available</td>\n",
       "      <td>subject section food drug packaged container d...</td>\n",
       "      <td>part regulation food drug administration inclu...</td>\n",
       "      <td>17</td>\n",
       "    </tr>\n",
       "  </tbody>\n",
       "</table>\n",
       "</div>"
      ],
      "text/plain": [
       "                       FDA_Chapter         FDA_Section      HC_Chapter  \\\n",
       "0  GENERAL ENFORCEMENT REGULATIONS  General Provisions           Foods   \n",
       "1  GENERAL ENFORCEMENT REGULATIONS  General Provisions           Drugs   \n",
       "2  GENERAL ENFORCEMENT REGULATIONS  General Provisions  Administration   \n",
       "\n",
       "                                          HC_Section  \\\n",
       "0                                            General   \n",
       "1  Cautionary Statements and Child Resistant Pack...   \n",
       "2  Labelling of Food and Drugs in Pressurized Con...   \n",
       "\n",
       "                                          HC_Subpart  \\\n",
       "0                                            General   \n",
       "1  Cautionary Statements and Child Resistant Pack...   \n",
       "2                                      Not Available   \n",
       "\n",
       "                                     hc_desc_cleaned  \\\n",
       "0  information appearing label prepackaged produc...   \n",
       "1  subject section c person shall sell drug descr...   \n",
       "2  subject section food drug packaged container d...   \n",
       "\n",
       "                                    fda_desc_cleaned    y  \n",
       "0  provision regulation promulgated federal food ...   29  \n",
       "1  labeling includes written printed graphic matt...  356  \n",
       "2  part regulation food drug administration inclu...   17  "
      ]
     },
     "execution_count": 29,
     "metadata": {},
     "output_type": "execute_result"
    }
   ],
   "source": [
    "# define df and drop duplicates\n",
    "df = df_full[['FDA_Chapter','FDA_Section','HC_Chapter','HC_Section','HC_Subpart',\n",
    "              'hc_desc_cleaned','fda_desc_cleaned','y']]\n",
    "print('Original shape:',df.shape)\n",
    "df.drop_duplicates(subset=df.columns, keep='last',inplace =True)\n",
    "features = df.columns[:-1]\n",
    "df = df.reset_index(drop=True)\n",
    "print('Shape after removing duplicates:',df.shape)\n",
    "df.head(3)"
   ]
  },
  {
   "cell_type": "code",
   "execution_count": 30,
   "metadata": {},
   "outputs": [
    {
     "name": "stdout",
     "output_type": "stream",
     "text": [
      "(7705, 1757)\n",
      "(7705, 1)\n"
     ]
    }
   ],
   "source": [
    "# define X and y\n",
    "y = df[['y']]\n",
    "X = df[['FDA_Chapter','FDA_Section','HC_Chapter','HC_Section','HC_Subpart']]\n",
    "X = pd.get_dummies(data = X, columns = X.columns)\n",
    "\n",
    "tfidf_vectorizer = TfidfVectorizer()\n",
    "X_text = df[['hc_desc_cleaned','fda_desc_cleaned']]\n",
    "X_text['hc_desc_cleaned'] = tfidf_vectorizer.fit_transform(X_text['hc_desc_cleaned']).toarray()\n",
    "X_text['fda_desc_cleaned'] = tfidf_vectorizer.fit_transform(X_text['fda_desc_cleaned']).toarray()\n",
    "X = pd.concat([X, X_text], axis=1, sort=True)\n",
    "\n",
    "print(X.shape)\n",
    "print(y.shape)\n"
   ]
  },
  {
   "cell_type": "code",
   "execution_count": 31,
   "metadata": {},
   "outputs": [
    {
     "name": "stdout",
     "output_type": "stream",
     "text": [
      "Features: Index(['FDA_Chapter', 'FDA_Section', 'HC_Chapter', 'HC_Section', 'HC_Subpart',\n",
      "       'hc_desc_cleaned', 'fda_desc_cleaned'],\n",
      "      dtype='object')\n",
      "---------- Logistic Regression ----------\n",
      "F1 Score: 0.6625567813108372\n",
      "Cohen Kappa Score: 0.6584491343587419\n",
      "---------- Random Forest Classifier ----------\n",
      "F1 Score: 0.6807268007787152\n",
      "Cohen Kappa Score: 0.6770740516734672\n"
     ]
    }
   ],
   "source": [
    "# run classifier\n",
    "print('Features:',features)\n",
    "X_train, X_test, y_train, y_test = train_test_split(X, y, test_size = 0.2, random_state = 42)\n",
    "\n",
    "print('---------- Logistic Regression ----------')\n",
    "lr = LogisticRegression(multi_class='ovr')\n",
    "lr.fit(X_train, y_train)\n",
    "lr_predictions = lr.predict(X_test)\n",
    "\n",
    "f1_score = metrics.f1_score(y_test, lr_predictions, average = 'micro') \n",
    "print('F1 Score:',f1_score)\n",
    "\n",
    "ck = cohen_kappa_score(y_test, lr_predictions)\n",
    "print('Cohen Kappa Score:',ck)\n",
    "\n",
    "print('---------- Random Forest Classifier ----------')\n",
    "rf = RandomForestClassifier(n_estimators = 100, random_state=42).fit(X_train, y_train) \n",
    "rf_predictions = rf.predict(X_test) \n",
    "\n",
    "f1_score = metrics.f1_score(y_test, rf_predictions, average = 'micro') \n",
    "print('F1 Score:',f1_score)\n",
    "\n",
    "ck = cohen_kappa_score(y_test, rf_predictions)\n",
    "print('Cohen Kappa Score:',ck)"
   ]
  },
  {
   "cell_type": "markdown",
   "metadata": {},
   "source": [
    "### 9. X: 'HC_Chapter','HC_Section','HC_Subpart','hc_desc_cleaned', 'fda_desc_cleaned','FDA_Chapter', 'FDA_Subpart'"
   ]
  },
  {
   "cell_type": "code",
   "execution_count": 32,
   "metadata": {},
   "outputs": [
    {
     "name": "stdout",
     "output_type": "stream",
     "text": [
      "Original shape: (7705, 8)\n",
      "Shape after removing duplicates: (7705, 8)\n"
     ]
    },
    {
     "data": {
      "text/html": [
       "<div>\n",
       "<style scoped>\n",
       "    .dataframe tbody tr th:only-of-type {\n",
       "        vertical-align: middle;\n",
       "    }\n",
       "\n",
       "    .dataframe tbody tr th {\n",
       "        vertical-align: top;\n",
       "    }\n",
       "\n",
       "    .dataframe thead th {\n",
       "        text-align: right;\n",
       "    }\n",
       "</style>\n",
       "<table border=\"1\" class=\"dataframe\">\n",
       "  <thead>\n",
       "    <tr style=\"text-align: right;\">\n",
       "      <th></th>\n",
       "      <th>FDA_Chapter</th>\n",
       "      <th>FDA_Subpart</th>\n",
       "      <th>HC_Chapter</th>\n",
       "      <th>HC_Section</th>\n",
       "      <th>HC_Subpart</th>\n",
       "      <th>hc_desc_cleaned</th>\n",
       "      <th>fda_desc_cleaned</th>\n",
       "      <th>y</th>\n",
       "    </tr>\n",
       "  </thead>\n",
       "  <tbody>\n",
       "    <tr>\n",
       "      <th>0</th>\n",
       "      <td>GENERAL ENFORCEMENT REGULATIONS</td>\n",
       "      <td>General.</td>\n",
       "      <td>Foods</td>\n",
       "      <td>General</td>\n",
       "      <td>General</td>\n",
       "      <td>information appearing label prepackaged produc...</td>\n",
       "      <td>provision regulation promulgated federal food ...</td>\n",
       "      <td>29</td>\n",
       "    </tr>\n",
       "    <tr>\n",
       "      <th>1</th>\n",
       "      <td>GENERAL ENFORCEMENT REGULATIONS</td>\n",
       "      <td>Definitions.</td>\n",
       "      <td>Drugs</td>\n",
       "      <td>Cautionary Statements and Child Resistant Pack...</td>\n",
       "      <td>Cautionary Statements and Child Resistant Pack...</td>\n",
       "      <td>subject section c person shall sell drug descr...</td>\n",
       "      <td>labeling includes written printed graphic matt...</td>\n",
       "      <td>356</td>\n",
       "    </tr>\n",
       "    <tr>\n",
       "      <th>2</th>\n",
       "      <td>GENERAL ENFORCEMENT REGULATIONS</td>\n",
       "      <td>Authority citations.</td>\n",
       "      <td>Administration</td>\n",
       "      <td>Labelling of Food and Drugs in Pressurized Con...</td>\n",
       "      <td>Not Available</td>\n",
       "      <td>subject section food drug packaged container d...</td>\n",
       "      <td>part regulation food drug administration inclu...</td>\n",
       "      <td>17</td>\n",
       "    </tr>\n",
       "  </tbody>\n",
       "</table>\n",
       "</div>"
      ],
      "text/plain": [
       "                       FDA_Chapter           FDA_Subpart      HC_Chapter  \\\n",
       "0  GENERAL ENFORCEMENT REGULATIONS              General.           Foods   \n",
       "1  GENERAL ENFORCEMENT REGULATIONS          Definitions.           Drugs   \n",
       "2  GENERAL ENFORCEMENT REGULATIONS  Authority citations.  Administration   \n",
       "\n",
       "                                          HC_Section  \\\n",
       "0                                            General   \n",
       "1  Cautionary Statements and Child Resistant Pack...   \n",
       "2  Labelling of Food and Drugs in Pressurized Con...   \n",
       "\n",
       "                                          HC_Subpart  \\\n",
       "0                                            General   \n",
       "1  Cautionary Statements and Child Resistant Pack...   \n",
       "2                                      Not Available   \n",
       "\n",
       "                                     hc_desc_cleaned  \\\n",
       "0  information appearing label prepackaged produc...   \n",
       "1  subject section c person shall sell drug descr...   \n",
       "2  subject section food drug packaged container d...   \n",
       "\n",
       "                                    fda_desc_cleaned    y  \n",
       "0  provision regulation promulgated federal food ...   29  \n",
       "1  labeling includes written printed graphic matt...  356  \n",
       "2  part regulation food drug administration inclu...   17  "
      ]
     },
     "execution_count": 32,
     "metadata": {},
     "output_type": "execute_result"
    }
   ],
   "source": [
    "# define df and drop duplicates\n",
    "df = df_full[['FDA_Chapter','FDA_Subpart','HC_Chapter','HC_Section','HC_Subpart',\n",
    "              'hc_desc_cleaned','fda_desc_cleaned','y']]\n",
    "print('Original shape:',df.shape)\n",
    "df.drop_duplicates(subset=df.columns, keep='last',inplace =True)\n",
    "features = df.columns[:-1]\n",
    "df = df.reset_index(drop=True)\n",
    "print('Shape after removing duplicates:',df.shape)\n",
    "df.head(3)"
   ]
  },
  {
   "cell_type": "code",
   "execution_count": 33,
   "metadata": {},
   "outputs": [
    {
     "name": "stdout",
     "output_type": "stream",
     "text": [
      "(7705, 7038)\n",
      "(7705, 1)\n"
     ]
    }
   ],
   "source": [
    "# define X and y\n",
    "y = df[['y']]\n",
    "X = df[['FDA_Chapter','FDA_Subpart','HC_Chapter','HC_Section','HC_Subpart']]\n",
    "X = pd.get_dummies(data = X, columns = X.columns)\n",
    "\n",
    "tfidf_vectorizer = TfidfVectorizer()\n",
    "X_text = df[['hc_desc_cleaned','fda_desc_cleaned']]\n",
    "X_text['hc_desc_cleaned'] = tfidf_vectorizer.fit_transform(X_text['hc_desc_cleaned']).toarray()\n",
    "X_text['fda_desc_cleaned'] = tfidf_vectorizer.fit_transform(X_text['fda_desc_cleaned']).toarray()\n",
    "X = pd.concat([X, X_text], axis=1, sort=True)\n",
    "\n",
    "print(X.shape)\n",
    "print(y.shape)"
   ]
  },
  {
   "cell_type": "code",
   "execution_count": 34,
   "metadata": {},
   "outputs": [
    {
     "name": "stdout",
     "output_type": "stream",
     "text": [
      "Features: Index(['FDA_Chapter', 'FDA_Subpart', 'HC_Chapter', 'HC_Section', 'HC_Subpart',\n",
      "       'hc_desc_cleaned', 'fda_desc_cleaned'],\n",
      "      dtype='object')\n",
      "---------- Logistic Regression ----------\n",
      "F1 Score: 0.6534717715768981\n",
      "Cohen Kappa Score: 0.6491742809491164\n",
      "---------- Random Forest Classifier ----------\n",
      "F1 Score: 0.682024659312135\n",
      "Cohen Kappa Score: 0.678298928202749\n"
     ]
    }
   ],
   "source": [
    "# run classifier\n",
    "print('Features:',features)\n",
    "X_train, X_test, y_train, y_test = train_test_split(X, y, test_size = 0.2, random_state = 42)\n",
    "\n",
    "print('---------- Logistic Regression ----------')\n",
    "lr = LogisticRegression(multi_class='ovr')\n",
    "lr.fit(X_train, y_train)\n",
    "lr_predictions = lr.predict(X_test)\n",
    "\n",
    "f1_score = metrics.f1_score(y_test, lr_predictions, average = 'micro') \n",
    "print('F1 Score:',f1_score)\n",
    "\n",
    "ck = cohen_kappa_score(y_test, lr_predictions)\n",
    "print('Cohen Kappa Score:',ck)\n",
    "\n",
    "print('---------- Random Forest Classifier ----------')\n",
    "rf = RandomForestClassifier(n_estimators = 100, random_state=42).fit(X_train, y_train) \n",
    "rf_predictions = rf.predict(X_test) \n",
    "\n",
    "f1_score = metrics.f1_score(y_test, rf_predictions, average = 'micro') \n",
    "print('F1 Score:',f1_score)\n",
    "\n",
    "ck = cohen_kappa_score(y_test, rf_predictions)\n",
    "print('Cohen Kappa Score:',ck)"
   ]
  },
  {
   "cell_type": "markdown",
   "metadata": {},
   "source": [
    "### 10. X: 'HC_Chapter','HC_Section','HC_Subpart','hc_desc_cleaned', 'fda_desc_cleaned','FDA_Section', 'FDA_Subpart'"
   ]
  },
  {
   "cell_type": "code",
   "execution_count": 35,
   "metadata": {},
   "outputs": [
    {
     "name": "stdout",
     "output_type": "stream",
     "text": [
      "Original shape: (7705, 8)\n",
      "Shape after removing duplicates: (7705, 8)\n"
     ]
    },
    {
     "data": {
      "text/html": [
       "<div>\n",
       "<style scoped>\n",
       "    .dataframe tbody tr th:only-of-type {\n",
       "        vertical-align: middle;\n",
       "    }\n",
       "\n",
       "    .dataframe tbody tr th {\n",
       "        vertical-align: top;\n",
       "    }\n",
       "\n",
       "    .dataframe thead th {\n",
       "        text-align: right;\n",
       "    }\n",
       "</style>\n",
       "<table border=\"1\" class=\"dataframe\">\n",
       "  <thead>\n",
       "    <tr style=\"text-align: right;\">\n",
       "      <th></th>\n",
       "      <th>FDA_Section</th>\n",
       "      <th>FDA_Subpart</th>\n",
       "      <th>HC_Chapter</th>\n",
       "      <th>HC_Section</th>\n",
       "      <th>HC_Subpart</th>\n",
       "      <th>hc_desc_cleaned</th>\n",
       "      <th>fda_desc_cleaned</th>\n",
       "      <th>y</th>\n",
       "    </tr>\n",
       "  </thead>\n",
       "  <tbody>\n",
       "    <tr>\n",
       "      <th>0</th>\n",
       "      <td>General Provisions</td>\n",
       "      <td>General.</td>\n",
       "      <td>Foods</td>\n",
       "      <td>General</td>\n",
       "      <td>General</td>\n",
       "      <td>information appearing label prepackaged produc...</td>\n",
       "      <td>provision regulation promulgated federal food ...</td>\n",
       "      <td>29</td>\n",
       "    </tr>\n",
       "    <tr>\n",
       "      <th>1</th>\n",
       "      <td>General Provisions</td>\n",
       "      <td>Definitions.</td>\n",
       "      <td>Drugs</td>\n",
       "      <td>Cautionary Statements and Child Resistant Pack...</td>\n",
       "      <td>Cautionary Statements and Child Resistant Pack...</td>\n",
       "      <td>subject section c person shall sell drug descr...</td>\n",
       "      <td>labeling includes written printed graphic matt...</td>\n",
       "      <td>356</td>\n",
       "    </tr>\n",
       "    <tr>\n",
       "      <th>2</th>\n",
       "      <td>General Provisions</td>\n",
       "      <td>Authority citations.</td>\n",
       "      <td>Administration</td>\n",
       "      <td>Labelling of Food and Drugs in Pressurized Con...</td>\n",
       "      <td>Not Available</td>\n",
       "      <td>subject section food drug packaged container d...</td>\n",
       "      <td>part regulation food drug administration inclu...</td>\n",
       "      <td>17</td>\n",
       "    </tr>\n",
       "  </tbody>\n",
       "</table>\n",
       "</div>"
      ],
      "text/plain": [
       "          FDA_Section           FDA_Subpart      HC_Chapter  \\\n",
       "0  General Provisions              General.           Foods   \n",
       "1  General Provisions          Definitions.           Drugs   \n",
       "2  General Provisions  Authority citations.  Administration   \n",
       "\n",
       "                                          HC_Section  \\\n",
       "0                                            General   \n",
       "1  Cautionary Statements and Child Resistant Pack...   \n",
       "2  Labelling of Food and Drugs in Pressurized Con...   \n",
       "\n",
       "                                          HC_Subpart  \\\n",
       "0                                            General   \n",
       "1  Cautionary Statements and Child Resistant Pack...   \n",
       "2                                      Not Available   \n",
       "\n",
       "                                     hc_desc_cleaned  \\\n",
       "0  information appearing label prepackaged produc...   \n",
       "1  subject section c person shall sell drug descr...   \n",
       "2  subject section food drug packaged container d...   \n",
       "\n",
       "                                    fda_desc_cleaned    y  \n",
       "0  provision regulation promulgated federal food ...   29  \n",
       "1  labeling includes written printed graphic matt...  356  \n",
       "2  part regulation food drug administration inclu...   17  "
      ]
     },
     "execution_count": 35,
     "metadata": {},
     "output_type": "execute_result"
    }
   ],
   "source": [
    "# define df and drop duplicates\n",
    "df = df_full[['FDA_Section','FDA_Subpart','HC_Chapter','HC_Section','HC_Subpart',\n",
    "              'hc_desc_cleaned','fda_desc_cleaned','y']]\n",
    "print('Original shape:',df.shape)\n",
    "df.drop_duplicates(subset=df.columns, keep='last',inplace =True)\n",
    "features = df.columns[:-1]\n",
    "df = df.reset_index(drop=True)\n",
    "print('Shape after removing duplicates:',df.shape)\n",
    "df.head(3)"
   ]
  },
  {
   "cell_type": "code",
   "execution_count": 36,
   "metadata": {},
   "outputs": [
    {
     "name": "stdout",
     "output_type": "stream",
     "text": [
      "(7705, 8126)\n",
      "(7705, 1)\n"
     ]
    }
   ],
   "source": [
    "# define X and y\n",
    "y = df[['y']]\n",
    "X = df[['FDA_Section','FDA_Subpart','HC_Chapter','HC_Section','HC_Subpart']]\n",
    "X = pd.get_dummies(data = X, columns = X.columns)\n",
    "\n",
    "tfidf_vectorizer = TfidfVectorizer()\n",
    "X_text = df[['hc_desc_cleaned','fda_desc_cleaned']]\n",
    "X_text['hc_desc_cleaned'] = tfidf_vectorizer.fit_transform(X_text['hc_desc_cleaned']).toarray()\n",
    "X_text['fda_desc_cleaned'] = tfidf_vectorizer.fit_transform(X_text['fda_desc_cleaned']).toarray()\n",
    "X = pd.concat([X, X_text], axis=1, sort=True)\n",
    "\n",
    "print(X.shape)\n",
    "print(y.shape)"
   ]
  },
  {
   "cell_type": "code",
   "execution_count": 37,
   "metadata": {},
   "outputs": [
    {
     "name": "stdout",
     "output_type": "stream",
     "text": [
      "Features: Index(['FDA_Section', 'FDA_Subpart', 'HC_Chapter', 'HC_Section', 'HC_Subpart',\n",
      "       'hc_desc_cleaned', 'fda_desc_cleaned'],\n",
      "      dtype='object')\n",
      "---------- Logistic Regression ----------\n",
      "F1 Score: 0.6424399740428294\n",
      "Cohen Kappa Score: 0.6379723336471423\n",
      "---------- Random Forest Classifier ----------\n",
      "F1 Score: 0.6768332251784556\n",
      "Cohen Kappa Score: 0.6729931672770737\n"
     ]
    }
   ],
   "source": [
    "# run classifier\n",
    "print('Features:',features)\n",
    "X_train, X_test, y_train, y_test = train_test_split(X, y, test_size = 0.2, random_state = 42)\n",
    "\n",
    "print('---------- Logistic Regression ----------')\n",
    "lr = LogisticRegression(multi_class='ovr')\n",
    "lr.fit(X_train, y_train)\n",
    "lr_predictions = lr.predict(X_test)\n",
    "\n",
    "f1_score = metrics.f1_score(y_test, lr_predictions, average = 'micro') \n",
    "print('F1 Score:',f1_score)\n",
    "\n",
    "ck = cohen_kappa_score(y_test, lr_predictions)\n",
    "print('Cohen Kappa Score:',ck)\n",
    "\n",
    "print('---------- Random Forest Classifier ----------')\n",
    "rf = RandomForestClassifier(n_estimators = 100, random_state=42).fit(X_train, y_train) \n",
    "rf_predictions = rf.predict(X_test) \n",
    "\n",
    "f1_score = metrics.f1_score(y_test, rf_predictions, average = 'micro') \n",
    "print('F1 Score:',f1_score)\n",
    "\n",
    "ck = cohen_kappa_score(y_test, rf_predictions)\n",
    "print('Cohen Kappa Score:',ck)"
   ]
  },
  {
   "cell_type": "markdown",
   "metadata": {},
   "source": [
    "### 11. X: 'HC_Chapter','HC_Section','HC_Subpart','hc_desc_cleaned', 'fda_desc_cleaned','FDA_Chapter','FDA_Section', 'FDA_Subpart'"
   ]
  },
  {
   "cell_type": "code",
   "execution_count": 38,
   "metadata": {},
   "outputs": [
    {
     "name": "stdout",
     "output_type": "stream",
     "text": [
      "Original shape: (7705, 9)\n",
      "Shape after removing duplicates: (7705, 9)\n"
     ]
    },
    {
     "data": {
      "text/html": [
       "<div>\n",
       "<style scoped>\n",
       "    .dataframe tbody tr th:only-of-type {\n",
       "        vertical-align: middle;\n",
       "    }\n",
       "\n",
       "    .dataframe tbody tr th {\n",
       "        vertical-align: top;\n",
       "    }\n",
       "\n",
       "    .dataframe thead th {\n",
       "        text-align: right;\n",
       "    }\n",
       "</style>\n",
       "<table border=\"1\" class=\"dataframe\">\n",
       "  <thead>\n",
       "    <tr style=\"text-align: right;\">\n",
       "      <th></th>\n",
       "      <th>FDA_Chapter</th>\n",
       "      <th>FDA_Section</th>\n",
       "      <th>FDA_Subpart</th>\n",
       "      <th>HC_Chapter</th>\n",
       "      <th>HC_Section</th>\n",
       "      <th>HC_Subpart</th>\n",
       "      <th>hc_desc_cleaned</th>\n",
       "      <th>fda_desc_cleaned</th>\n",
       "      <th>y</th>\n",
       "    </tr>\n",
       "  </thead>\n",
       "  <tbody>\n",
       "    <tr>\n",
       "      <th>0</th>\n",
       "      <td>GENERAL ENFORCEMENT REGULATIONS</td>\n",
       "      <td>General Provisions</td>\n",
       "      <td>General.</td>\n",
       "      <td>Foods</td>\n",
       "      <td>General</td>\n",
       "      <td>General</td>\n",
       "      <td>information appearing label prepackaged produc...</td>\n",
       "      <td>provision regulation promulgated federal food ...</td>\n",
       "      <td>29</td>\n",
       "    </tr>\n",
       "    <tr>\n",
       "      <th>1</th>\n",
       "      <td>GENERAL ENFORCEMENT REGULATIONS</td>\n",
       "      <td>General Provisions</td>\n",
       "      <td>Definitions.</td>\n",
       "      <td>Drugs</td>\n",
       "      <td>Cautionary Statements and Child Resistant Pack...</td>\n",
       "      <td>Cautionary Statements and Child Resistant Pack...</td>\n",
       "      <td>subject section c person shall sell drug descr...</td>\n",
       "      <td>labeling includes written printed graphic matt...</td>\n",
       "      <td>356</td>\n",
       "    </tr>\n",
       "    <tr>\n",
       "      <th>2</th>\n",
       "      <td>GENERAL ENFORCEMENT REGULATIONS</td>\n",
       "      <td>General Provisions</td>\n",
       "      <td>Authority citations.</td>\n",
       "      <td>Administration</td>\n",
       "      <td>Labelling of Food and Drugs in Pressurized Con...</td>\n",
       "      <td>Not Available</td>\n",
       "      <td>subject section food drug packaged container d...</td>\n",
       "      <td>part regulation food drug administration inclu...</td>\n",
       "      <td>17</td>\n",
       "    </tr>\n",
       "  </tbody>\n",
       "</table>\n",
       "</div>"
      ],
      "text/plain": [
       "                       FDA_Chapter         FDA_Section           FDA_Subpart  \\\n",
       "0  GENERAL ENFORCEMENT REGULATIONS  General Provisions              General.   \n",
       "1  GENERAL ENFORCEMENT REGULATIONS  General Provisions          Definitions.   \n",
       "2  GENERAL ENFORCEMENT REGULATIONS  General Provisions  Authority citations.   \n",
       "\n",
       "       HC_Chapter                                         HC_Section  \\\n",
       "0           Foods                                            General   \n",
       "1           Drugs  Cautionary Statements and Child Resistant Pack...   \n",
       "2  Administration  Labelling of Food and Drugs in Pressurized Con...   \n",
       "\n",
       "                                          HC_Subpart  \\\n",
       "0                                            General   \n",
       "1  Cautionary Statements and Child Resistant Pack...   \n",
       "2                                      Not Available   \n",
       "\n",
       "                                     hc_desc_cleaned  \\\n",
       "0  information appearing label prepackaged produc...   \n",
       "1  subject section c person shall sell drug descr...   \n",
       "2  subject section food drug packaged container d...   \n",
       "\n",
       "                                    fda_desc_cleaned    y  \n",
       "0  provision regulation promulgated federal food ...   29  \n",
       "1  labeling includes written printed graphic matt...  356  \n",
       "2  part regulation food drug administration inclu...   17  "
      ]
     },
     "execution_count": 38,
     "metadata": {},
     "output_type": "execute_result"
    }
   ],
   "source": [
    "# define df and drop duplicates\n",
    "df = df_full[['FDA_Chapter','FDA_Section','FDA_Subpart','HC_Chapter','HC_Section','HC_Subpart',\n",
    "              'hc_desc_cleaned','fda_desc_cleaned','y']]\n",
    "print('Original shape:',df.shape)\n",
    "df.drop_duplicates(subset=df.columns, keep='last',inplace =True)\n",
    "features = df.columns[:-1]\n",
    "df = df.reset_index(drop=True)\n",
    "print('Shape after removing duplicates:',df.shape)\n",
    "df.head(3)"
   ]
  },
  {
   "cell_type": "code",
   "execution_count": 39,
   "metadata": {},
   "outputs": [
    {
     "name": "stdout",
     "output_type": "stream",
     "text": [
      "(7705, 8336)\n",
      "(7705, 1)\n"
     ]
    }
   ],
   "source": [
    "# define X and y\n",
    "y = df[['y']]\n",
    "X = df[['FDA_Chapter','FDA_Section','FDA_Subpart','HC_Chapter','HC_Section','HC_Subpart']]\n",
    "X = pd.get_dummies(data = X, columns = X.columns)\n",
    "\n",
    "tfidf_vectorizer = TfidfVectorizer()\n",
    "X_text = df[['hc_desc_cleaned','fda_desc_cleaned']]\n",
    "X_text['hc_desc_cleaned'] = tfidf_vectorizer.fit_transform(X_text['hc_desc_cleaned']).toarray()\n",
    "X_text['fda_desc_cleaned'] = tfidf_vectorizer.fit_transform(X_text['fda_desc_cleaned']).toarray()\n",
    "X = pd.concat([X, X_text], axis=1, sort=True)\n",
    "\n",
    "print(X.shape)\n",
    "print(y.shape)"
   ]
  },
  {
   "cell_type": "code",
   "execution_count": 40,
   "metadata": {},
   "outputs": [
    {
     "name": "stdout",
     "output_type": "stream",
     "text": [
      "Features: Index(['FDA_Chapter', 'FDA_Section', 'FDA_Subpart', 'HC_Chapter', 'HC_Section',\n",
      "       'HC_Subpart', 'hc_desc_cleaned', 'fda_desc_cleaned'],\n",
      "      dtype='object')\n",
      "---------- Logistic Regression ----------\n",
      "F1 Score: 0.6645035691109669\n",
      "Cohen Kappa Score: 0.6604077509334879\n",
      "---------- Random Forest Classifier ----------\n",
      "F1 Score: 0.6872160934458144\n",
      "Cohen Kappa Score: 0.6835282693845657\n"
     ]
    }
   ],
   "source": [
    "# run classifier\n",
    "print('Features:',features)\n",
    "X_train, X_test, y_train, y_test = train_test_split(X, y, test_size = 0.2, random_state = 42)\n",
    "\n",
    "print('---------- Logistic Regression ----------')\n",
    "lr = LogisticRegression(multi_class='ovr')\n",
    "lr.fit(X_train, y_train)\n",
    "lr_predictions = lr.predict(X_test)\n",
    "\n",
    "f1_score = metrics.f1_score(y_test, lr_predictions, average = 'micro') \n",
    "print('F1 Score:',f1_score)\n",
    "\n",
    "ck = cohen_kappa_score(y_test, lr_predictions)\n",
    "print('Cohen Kappa Score:',ck)\n",
    "\n",
    "print('---------- Random Forest Classifier ----------')\n",
    "rf = RandomForestClassifier(n_estimators = 100, random_state=42).fit(X_train, y_train) \n",
    "rf_predictions = rf.predict(X_test) \n",
    "\n",
    "f1_score = metrics.f1_score(y_test, rf_predictions, average = 'micro') \n",
    "print('F1 Score:',f1_score)\n",
    "\n",
    "ck = cohen_kappa_score(y_test, rf_predictions)\n",
    "print('Cohen Kappa Score:',ck)"
   ]
  },
  {
   "cell_type": "code",
   "execution_count": null,
   "metadata": {},
   "outputs": [],
   "source": []
  },
  {
   "cell_type": "code",
   "execution_count": null,
   "metadata": {},
   "outputs": [],
   "source": []
  }
 ],
 "metadata": {
  "kernelspec": {
   "display_name": "Python 3",
   "language": "python",
   "name": "python3"
  },
  "language_info": {
   "codemirror_mode": {
    "name": "ipython",
    "version": 3
   },
   "file_extension": ".py",
   "mimetype": "text/x-python",
   "name": "python",
   "nbconvert_exporter": "python",
   "pygments_lexer": "ipython3",
   "version": "3.8.3"
  }
 },
 "nbformat": 4,
 "nbformat_minor": 4
}
